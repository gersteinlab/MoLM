{
 "cells": [
  {
   "cell_type": "markdown",
   "source": [
    "# Molecule Embedding Example\n",
    "This is an example of how to pass molecules and text through our model to obtain their embeddings. We will be using the checkpoint used within the GraphTextRetrieval downstream task. Ensure that you have extracted the [model data](https://huggingface.co/andrewt28/MolLM/tree/main/GraphTextRetrieval) for GraphTextRetrieval into `downstream/GraphTextRetrieval` and that you are in the `prediction` Conda environment.\n",
    "\n",
    "We will show how to extract the embedding for a small molecule and two pieces of text. Then, we will compute cosine similarity between the embeddings of the pieces of text to the molecule."
   ],
   "metadata": {
    "collapsed": false
   },
   "id": "30fc73542647808b"
  },
  {
   "cell_type": "code",
   "outputs": [],
   "source": [
    "import importlib\n",
    "import sys\n",
    "\n",
    "sys.path.insert(0, '../../downstream/graph-transformer')\n",
    "MolLMPkg = importlib.import_module(\"MolLM\")\n",
    "MolLM = MolLMPkg.MolLM"
   ],
   "metadata": {
    "collapsed": false,
    "is_executing": true
   },
   "id": "efde4bf0a8abf852",
   "execution_count": null
  },
  {
   "cell_type": "code",
   "outputs": [
    {
     "name": "stderr",
     "output_type": "stream",
     "text": [
      "/gpfs/gibbs/project/gerstein/xt86/conda_envs/new-momu-train/lib/python3.9/site-packages/pytorch_lightning/core/saving.py:213: UserWarning: Found keys that are in the model state dict but not in the checkpoint: ['graph_proj_head.0.weight', 'graph_proj_head.0.bias', 'graph_proj_head.2.weight', 'graph_proj_head.2.bias', 'text_proj_head.0.weight', 'text_proj_head.0.bias', 'text_proj_head.2.weight', 'text_proj_head.2.bias']\n",
      "  rank_zero_warn(\n"
     ]
    }
   ],
   "source": [
    "model = MolLM('../../downstream/GraphTextRetrieval/all_checkpoints/model-epoch=394.ckpt', '../../downstream/GraphTextRetrieval/', '../../downstream/GraphTextRetrieval/bert_pretrained')"
   ],
   "metadata": {
    "collapsed": false,
    "ExecuteTime": {
     "end_time": "2024-03-13T04:15:20.795379Z",
     "start_time": "2024-03-13T04:15:15.177775Z"
    }
   },
   "id": "7a8f6469439c6005",
   "execution_count": 2
  },
  {
   "cell_type": "markdown",
   "source": [
    "Below shows passing the SMILES string for a small molecule, Aspirin, through the MolLM model to obtain its embedding."
   ],
   "metadata": {
    "collapsed": false
   },
   "id": "89d040de1ba4b270"
  },
  {
   "cell_type": "code",
   "outputs": [
    {
     "data": {
      "text/plain": "torch.Size([1, 768])"
     },
     "execution_count": 3,
     "metadata": {},
     "output_type": "execute_result"
    }
   ],
   "source": [
    "# Aspirin molecule\n",
    "molecule_embedding = model.forward_molecule('O=C(C)Oc1ccccc1C(=O)O')\n",
    "molecule_embedding.shape"
   ],
   "metadata": {
    "collapsed": false,
    "ExecuteTime": {
     "end_time": "2024-03-13T04:15:22.471359Z",
     "start_time": "2024-03-13T04:15:20.796015Z"
    }
   },
   "id": "29e8d9150a782f81",
   "execution_count": 3
  },
  {
   "cell_type": "markdown",
   "source": [
    "Below shows passing a piece of text through the MolLM model to obtain its embeddings. In this case, the text describes Aspirin. "
   ],
   "metadata": {
    "collapsed": false
   },
   "id": "94a3ac880037c6db"
  },
  {
   "cell_type": "code",
   "outputs": [
    {
     "data": {
      "text/plain": "torch.Size([1, 768])"
     },
     "execution_count": 4,
     "metadata": {},
     "output_type": "execute_result"
    }
   ],
   "source": [
    "# Aspirin description\n",
    "text_embedding = model.forward_text('Acetylsalicylic acid appears as odorless white crystals or crystalline powder with a slightly bitter taste.')\n",
    "text_embedding.shape"
   ],
   "metadata": {
    "collapsed": false,
    "ExecuteTime": {
     "end_time": "2024-03-13T04:15:26.522388Z",
     "start_time": "2024-03-13T04:15:22.471705Z"
    }
   },
   "id": "8eeb55f325ba2c99",
   "execution_count": 4
  },
  {
   "cell_type": "markdown",
   "source": [
    "Then, we compute the cosine similarity between the molecule and text embedding."
   ],
   "metadata": {
    "collapsed": false
   },
   "id": "ea819ecdb265027c"
  },
  {
   "cell_type": "code",
   "outputs": [
    {
     "data": {
      "text/plain": "tensor([0.5192])"
     },
     "execution_count": 5,
     "metadata": {},
     "output_type": "execute_result"
    }
   ],
   "source": [
    "from torch.nn.functional import cosine_similarity\n",
    "\n",
    "cosine_similarity(molecule_embedding, text_embedding)"
   ],
   "metadata": {
    "collapsed": false,
    "ExecuteTime": {
     "end_time": "2024-03-13T04:15:26.522787Z",
     "start_time": "2024-03-13T04:15:26.518833Z"
    }
   },
   "id": "7351cd915a5488e7",
   "execution_count": 5
  },
  {
   "cell_type": "markdown",
   "source": [
    "Then, we obtain the embedding of another piece of text. In this case, the text is not related to Aspirin. Finally, we compute the cosine similarity of this embedding to that of the Aspirin molecule, and it is significantly lower than the previous similarity as expected."
   ],
   "metadata": {
    "collapsed": false
   },
   "id": "d8f4ed683c68d102"
  },
  {
   "cell_type": "code",
   "outputs": [
    {
     "data": {
      "text/plain": "tensor([0.0510])"
     },
     "execution_count": 7,
     "metadata": {},
     "output_type": "execute_result"
    }
   ],
   "source": [
    "text_embedding2 = model.forward_text('Sodium octadecanoate is an organic sodium salt comprising equal numbers of sodium and stearate ions.')\n",
    "cosine_similarity(molecule_embedding, text_embedding2)\n",
    "# Similarity for a description that is not related aspirin has a much lower cosine similarity to the aspirin molecule embedding as expected"
   ],
   "metadata": {
    "collapsed": false,
    "ExecuteTime": {
     "end_time": "2024-03-13T04:23:45.673243Z",
     "start_time": "2024-03-13T04:23:41.519147Z"
    }
   },
   "id": "7b4f8b09277ab16e",
   "execution_count": 7
  }
 ],
 "metadata": {
  "kernelspec": {
   "display_name": "Python 3",
   "language": "python",
   "name": "python3"
  },
  "language_info": {
   "codemirror_mode": {
    "name": "ipython",
    "version": 2
   },
   "file_extension": ".py",
   "mimetype": "text/x-python",
   "name": "python",
   "nbconvert_exporter": "python",
   "pygments_lexer": "ipython2",
   "version": "2.7.6"
  }
 },
 "nbformat": 4,
 "nbformat_minor": 5
}
