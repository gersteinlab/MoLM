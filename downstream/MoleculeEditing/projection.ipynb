{
 "cells": [
  {
   "cell_type": "code",
   "execution_count": 2,
   "metadata": {
    "collapsed": true
   },
   "outputs": [],
   "source": [
    "import torch\n",
    "\n",
    "all_mols = torch.load('embedding_data/all.pt')"
   ]
  },
  {
   "cell_type": "code",
   "execution_count": 3,
   "outputs": [
    {
     "data": {
      "text/plain": "(list, torch.Size([1, 768]))"
     },
     "execution_count": 3,
     "metadata": {},
     "output_type": "execute_result"
    }
   ],
   "source": [
    "type(all_mols), all_mols[0].shape"
   ],
   "metadata": {
    "collapsed": false
   }
  },
  {
   "cell_type": "code",
   "execution_count": 4,
   "outputs": [
    {
     "name": "stdout",
     "output_type": "stream",
     "text": [
      "Start at Time: Sun May 14 19:17:31 2023\n",
      "loading hyperparamaters from results/zinc250k_512t2cnn_256gnn_512-64lin_10flow_19fold_convlu2_38af-1-1mask/moflow-params.json\n",
      "loading snapshot: results/zinc250k_512t2cnn_256gnn_512-64lin_10flow_19fold_convlu2_38af-1-1mask/model_snapshot_epoch_200\n",
      "Hyper-parameters:\n",
      "--------------------  ------------------------------------------------------------------------------------------------\n",
      "b_n_type              4\n",
      "b_n_flow              10\n",
      "b_n_block             1\n",
      "b_n_squeeze           19\n",
      "b_hidden_ch           [512, 512]\n",
      "b_affine              True\n",
      "b_conv_lu             2\n",
      "a_n_node              38\n",
      "a_n_type              10\n",
      "a_hidden_gnn          [256]\n",
      "a_hidden_lin          [512, 64]\n",
      "a_n_flow              38\n",
      "a_n_block             1\n",
      "mask_row_size_list    [1]\n",
      "mask_row_stride_list  [1]\n",
      "a_affine              True\n",
      "path                  results/zinc250k_512t2cnn_256gnn_512-64lin_10flow_19fold_convlu2_38af-1-1mask/moflow-params.json\n",
      "learn_dist            1\n",
      "seed                  1\n",
      "noise_scale           0.6\n",
      "--------------------  ------------------------------------------------------------------------------------------------\n",
      "model.ln_var: 1.12\n",
      "device = cuda:0\n"
     ]
    },
    {
     "data": {
      "text/plain": "MoFlow(\n  (bond_model): Glow(\n    (blocks): ModuleList(\n      (0): Block(\n        (flows): ModuleList(\n          (0): Flow(\n            (actnorm): ActNorm()\n            (coupling): AffineCoupling(\n              (layers): ModuleList(\n                (0): Conv2d(722, 512, kernel_size=(3, 3), stride=(1, 1), padding=(1, 1))\n                (1): Conv2d(512, 512, kernel_size=(3, 3), stride=(1, 1), padding=(1, 1))\n                (2): Conv2d(512, 1444, kernel_size=(3, 3), stride=(1, 1), padding=(1, 1))\n              )\n              (norms): ModuleList(\n                (0): BatchNorm2d(512, eps=1e-05, momentum=0.1, affine=True, track_running_stats=True)\n                (1): BatchNorm2d(512, eps=1e-05, momentum=0.1, affine=True, track_running_stats=True)\n                (2): BatchNorm2d(1444, eps=1e-05, momentum=0.1, affine=True, track_running_stats=True)\n              )\n            )\n          )\n          (1): Flow(\n            (actnorm): ActNorm()\n            (coupling): AffineCoupling(\n              (layers): ModuleList(\n                (0): Conv2d(722, 512, kernel_size=(3, 3), stride=(1, 1), padding=(1, 1))\n                (1): Conv2d(512, 512, kernel_size=(3, 3), stride=(1, 1), padding=(1, 1))\n                (2): Conv2d(512, 1444, kernel_size=(3, 3), stride=(1, 1), padding=(1, 1))\n              )\n              (norms): ModuleList(\n                (0): BatchNorm2d(512, eps=1e-05, momentum=0.1, affine=True, track_running_stats=True)\n                (1): BatchNorm2d(512, eps=1e-05, momentum=0.1, affine=True, track_running_stats=True)\n                (2): BatchNorm2d(1444, eps=1e-05, momentum=0.1, affine=True, track_running_stats=True)\n              )\n            )\n          )\n          (2): Flow(\n            (actnorm): ActNorm()\n            (coupling): AffineCoupling(\n              (layers): ModuleList(\n                (0): Conv2d(722, 512, kernel_size=(3, 3), stride=(1, 1), padding=(1, 1))\n                (1): Conv2d(512, 512, kernel_size=(3, 3), stride=(1, 1), padding=(1, 1))\n                (2): Conv2d(512, 1444, kernel_size=(3, 3), stride=(1, 1), padding=(1, 1))\n              )\n              (norms): ModuleList(\n                (0): BatchNorm2d(512, eps=1e-05, momentum=0.1, affine=True, track_running_stats=True)\n                (1): BatchNorm2d(512, eps=1e-05, momentum=0.1, affine=True, track_running_stats=True)\n                (2): BatchNorm2d(1444, eps=1e-05, momentum=0.1, affine=True, track_running_stats=True)\n              )\n            )\n          )\n          (3): Flow(\n            (actnorm): ActNorm()\n            (coupling): AffineCoupling(\n              (layers): ModuleList(\n                (0): Conv2d(722, 512, kernel_size=(3, 3), stride=(1, 1), padding=(1, 1))\n                (1): Conv2d(512, 512, kernel_size=(3, 3), stride=(1, 1), padding=(1, 1))\n                (2): Conv2d(512, 1444, kernel_size=(3, 3), stride=(1, 1), padding=(1, 1))\n              )\n              (norms): ModuleList(\n                (0): BatchNorm2d(512, eps=1e-05, momentum=0.1, affine=True, track_running_stats=True)\n                (1): BatchNorm2d(512, eps=1e-05, momentum=0.1, affine=True, track_running_stats=True)\n                (2): BatchNorm2d(1444, eps=1e-05, momentum=0.1, affine=True, track_running_stats=True)\n              )\n            )\n          )\n          (4): Flow(\n            (actnorm): ActNorm()\n            (coupling): AffineCoupling(\n              (layers): ModuleList(\n                (0): Conv2d(722, 512, kernel_size=(3, 3), stride=(1, 1), padding=(1, 1))\n                (1): Conv2d(512, 512, kernel_size=(3, 3), stride=(1, 1), padding=(1, 1))\n                (2): Conv2d(512, 1444, kernel_size=(3, 3), stride=(1, 1), padding=(1, 1))\n              )\n              (norms): ModuleList(\n                (0): BatchNorm2d(512, eps=1e-05, momentum=0.1, affine=True, track_running_stats=True)\n                (1): BatchNorm2d(512, eps=1e-05, momentum=0.1, affine=True, track_running_stats=True)\n                (2): BatchNorm2d(1444, eps=1e-05, momentum=0.1, affine=True, track_running_stats=True)\n              )\n            )\n          )\n          (5): Flow(\n            (actnorm): ActNorm()\n            (coupling): AffineCoupling(\n              (layers): ModuleList(\n                (0): Conv2d(722, 512, kernel_size=(3, 3), stride=(1, 1), padding=(1, 1))\n                (1): Conv2d(512, 512, kernel_size=(3, 3), stride=(1, 1), padding=(1, 1))\n                (2): Conv2d(512, 1444, kernel_size=(3, 3), stride=(1, 1), padding=(1, 1))\n              )\n              (norms): ModuleList(\n                (0): BatchNorm2d(512, eps=1e-05, momentum=0.1, affine=True, track_running_stats=True)\n                (1): BatchNorm2d(512, eps=1e-05, momentum=0.1, affine=True, track_running_stats=True)\n                (2): BatchNorm2d(1444, eps=1e-05, momentum=0.1, affine=True, track_running_stats=True)\n              )\n            )\n          )\n          (6): Flow(\n            (actnorm): ActNorm()\n            (coupling): AffineCoupling(\n              (layers): ModuleList(\n                (0): Conv2d(722, 512, kernel_size=(3, 3), stride=(1, 1), padding=(1, 1))\n                (1): Conv2d(512, 512, kernel_size=(3, 3), stride=(1, 1), padding=(1, 1))\n                (2): Conv2d(512, 1444, kernel_size=(3, 3), stride=(1, 1), padding=(1, 1))\n              )\n              (norms): ModuleList(\n                (0): BatchNorm2d(512, eps=1e-05, momentum=0.1, affine=True, track_running_stats=True)\n                (1): BatchNorm2d(512, eps=1e-05, momentum=0.1, affine=True, track_running_stats=True)\n                (2): BatchNorm2d(1444, eps=1e-05, momentum=0.1, affine=True, track_running_stats=True)\n              )\n            )\n          )\n          (7): Flow(\n            (actnorm): ActNorm()\n            (coupling): AffineCoupling(\n              (layers): ModuleList(\n                (0): Conv2d(722, 512, kernel_size=(3, 3), stride=(1, 1), padding=(1, 1))\n                (1): Conv2d(512, 512, kernel_size=(3, 3), stride=(1, 1), padding=(1, 1))\n                (2): Conv2d(512, 1444, kernel_size=(3, 3), stride=(1, 1), padding=(1, 1))\n              )\n              (norms): ModuleList(\n                (0): BatchNorm2d(512, eps=1e-05, momentum=0.1, affine=True, track_running_stats=True)\n                (1): BatchNorm2d(512, eps=1e-05, momentum=0.1, affine=True, track_running_stats=True)\n                (2): BatchNorm2d(1444, eps=1e-05, momentum=0.1, affine=True, track_running_stats=True)\n              )\n            )\n          )\n          (8): Flow(\n            (actnorm): ActNorm()\n            (coupling): AffineCoupling(\n              (layers): ModuleList(\n                (0): Conv2d(722, 512, kernel_size=(3, 3), stride=(1, 1), padding=(1, 1))\n                (1): Conv2d(512, 512, kernel_size=(3, 3), stride=(1, 1), padding=(1, 1))\n                (2): Conv2d(512, 1444, kernel_size=(3, 3), stride=(1, 1), padding=(1, 1))\n              )\n              (norms): ModuleList(\n                (0): BatchNorm2d(512, eps=1e-05, momentum=0.1, affine=True, track_running_stats=True)\n                (1): BatchNorm2d(512, eps=1e-05, momentum=0.1, affine=True, track_running_stats=True)\n                (2): BatchNorm2d(1444, eps=1e-05, momentum=0.1, affine=True, track_running_stats=True)\n              )\n            )\n          )\n          (9): Flow(\n            (actnorm): ActNorm()\n            (coupling): AffineCoupling(\n              (layers): ModuleList(\n                (0): Conv2d(722, 512, kernel_size=(3, 3), stride=(1, 1), padding=(1, 1))\n                (1): Conv2d(512, 512, kernel_size=(3, 3), stride=(1, 1), padding=(1, 1))\n                (2): Conv2d(512, 1444, kernel_size=(3, 3), stride=(1, 1), padding=(1, 1))\n              )\n              (norms): ModuleList(\n                (0): BatchNorm2d(512, eps=1e-05, momentum=0.1, affine=True, track_running_stats=True)\n                (1): BatchNorm2d(512, eps=1e-05, momentum=0.1, affine=True, track_running_stats=True)\n                (2): BatchNorm2d(1444, eps=1e-05, momentum=0.1, affine=True, track_running_stats=True)\n              )\n            )\n          )\n        )\n      )\n    )\n  )\n  (atom_model): GlowOnGraph(\n    (blocks): ModuleList(\n      (0): BlockOnGraph(\n        (flows): ModuleList(\n          (0): FlowOnGraph(\n            (actnorm): ActNorm2D()\n            (coupling): GraphAffineCoupling(\n              (net): ModuleList(\n                (0): GraphConv(\n                  (graph_linear_self): GraphLinear(\n                    (linear): Linear(in_features=10, out_features=256, bias=True)\n                  )\n                  (graph_linear_edge): GraphLinear(\n                    (linear): Linear(in_features=10, out_features=1024, bias=True)\n                  )\n                )\n              )\n              (norm): ModuleList(\n                (0): BatchNorm1d(38, eps=1e-05, momentum=0.1, affine=True, track_running_stats=True)\n              )\n              (net_lin): ModuleList(\n                (0): GraphLinear(\n                  (linear): Linear(in_features=256, out_features=512, bias=True)\n                )\n                (1): GraphLinear(\n                  (linear): Linear(in_features=512, out_features=64, bias=True)\n                )\n                (2): GraphLinear(\n                  (linear): Linear(in_features=64, out_features=20, bias=True)\n                )\n              )\n              (norm_lin): ModuleList(\n                (0): BatchNorm1d(38, eps=1e-05, momentum=0.1, affine=True, track_running_stats=True)\n                (1): BatchNorm1d(38, eps=1e-05, momentum=0.1, affine=True, track_running_stats=True)\n              )\n            )\n          )\n          (1): FlowOnGraph(\n            (actnorm): ActNorm2D()\n            (coupling): GraphAffineCoupling(\n              (net): ModuleList(\n                (0): GraphConv(\n                  (graph_linear_self): GraphLinear(\n                    (linear): Linear(in_features=10, out_features=256, bias=True)\n                  )\n                  (graph_linear_edge): GraphLinear(\n                    (linear): Linear(in_features=10, out_features=1024, bias=True)\n                  )\n                )\n              )\n              (norm): ModuleList(\n                (0): BatchNorm1d(38, eps=1e-05, momentum=0.1, affine=True, track_running_stats=True)\n              )\n              (net_lin): ModuleList(\n                (0): GraphLinear(\n                  (linear): Linear(in_features=256, out_features=512, bias=True)\n                )\n                (1): GraphLinear(\n                  (linear): Linear(in_features=512, out_features=64, bias=True)\n                )\n                (2): GraphLinear(\n                  (linear): Linear(in_features=64, out_features=20, bias=True)\n                )\n              )\n              (norm_lin): ModuleList(\n                (0): BatchNorm1d(38, eps=1e-05, momentum=0.1, affine=True, track_running_stats=True)\n                (1): BatchNorm1d(38, eps=1e-05, momentum=0.1, affine=True, track_running_stats=True)\n              )\n            )\n          )\n          (2): FlowOnGraph(\n            (actnorm): ActNorm2D()\n            (coupling): GraphAffineCoupling(\n              (net): ModuleList(\n                (0): GraphConv(\n                  (graph_linear_self): GraphLinear(\n                    (linear): Linear(in_features=10, out_features=256, bias=True)\n                  )\n                  (graph_linear_edge): GraphLinear(\n                    (linear): Linear(in_features=10, out_features=1024, bias=True)\n                  )\n                )\n              )\n              (norm): ModuleList(\n                (0): BatchNorm1d(38, eps=1e-05, momentum=0.1, affine=True, track_running_stats=True)\n              )\n              (net_lin): ModuleList(\n                (0): GraphLinear(\n                  (linear): Linear(in_features=256, out_features=512, bias=True)\n                )\n                (1): GraphLinear(\n                  (linear): Linear(in_features=512, out_features=64, bias=True)\n                )\n                (2): GraphLinear(\n                  (linear): Linear(in_features=64, out_features=20, bias=True)\n                )\n              )\n              (norm_lin): ModuleList(\n                (0): BatchNorm1d(38, eps=1e-05, momentum=0.1, affine=True, track_running_stats=True)\n                (1): BatchNorm1d(38, eps=1e-05, momentum=0.1, affine=True, track_running_stats=True)\n              )\n            )\n          )\n          (3): FlowOnGraph(\n            (actnorm): ActNorm2D()\n            (coupling): GraphAffineCoupling(\n              (net): ModuleList(\n                (0): GraphConv(\n                  (graph_linear_self): GraphLinear(\n                    (linear): Linear(in_features=10, out_features=256, bias=True)\n                  )\n                  (graph_linear_edge): GraphLinear(\n                    (linear): Linear(in_features=10, out_features=1024, bias=True)\n                  )\n                )\n              )\n              (norm): ModuleList(\n                (0): BatchNorm1d(38, eps=1e-05, momentum=0.1, affine=True, track_running_stats=True)\n              )\n              (net_lin): ModuleList(\n                (0): GraphLinear(\n                  (linear): Linear(in_features=256, out_features=512, bias=True)\n                )\n                (1): GraphLinear(\n                  (linear): Linear(in_features=512, out_features=64, bias=True)\n                )\n                (2): GraphLinear(\n                  (linear): Linear(in_features=64, out_features=20, bias=True)\n                )\n              )\n              (norm_lin): ModuleList(\n                (0): BatchNorm1d(38, eps=1e-05, momentum=0.1, affine=True, track_running_stats=True)\n                (1): BatchNorm1d(38, eps=1e-05, momentum=0.1, affine=True, track_running_stats=True)\n              )\n            )\n          )\n          (4): FlowOnGraph(\n            (actnorm): ActNorm2D()\n            (coupling): GraphAffineCoupling(\n              (net): ModuleList(\n                (0): GraphConv(\n                  (graph_linear_self): GraphLinear(\n                    (linear): Linear(in_features=10, out_features=256, bias=True)\n                  )\n                  (graph_linear_edge): GraphLinear(\n                    (linear): Linear(in_features=10, out_features=1024, bias=True)\n                  )\n                )\n              )\n              (norm): ModuleList(\n                (0): BatchNorm1d(38, eps=1e-05, momentum=0.1, affine=True, track_running_stats=True)\n              )\n              (net_lin): ModuleList(\n                (0): GraphLinear(\n                  (linear): Linear(in_features=256, out_features=512, bias=True)\n                )\n                (1): GraphLinear(\n                  (linear): Linear(in_features=512, out_features=64, bias=True)\n                )\n                (2): GraphLinear(\n                  (linear): Linear(in_features=64, out_features=20, bias=True)\n                )\n              )\n              (norm_lin): ModuleList(\n                (0): BatchNorm1d(38, eps=1e-05, momentum=0.1, affine=True, track_running_stats=True)\n                (1): BatchNorm1d(38, eps=1e-05, momentum=0.1, affine=True, track_running_stats=True)\n              )\n            )\n          )\n          (5): FlowOnGraph(\n            (actnorm): ActNorm2D()\n            (coupling): GraphAffineCoupling(\n              (net): ModuleList(\n                (0): GraphConv(\n                  (graph_linear_self): GraphLinear(\n                    (linear): Linear(in_features=10, out_features=256, bias=True)\n                  )\n                  (graph_linear_edge): GraphLinear(\n                    (linear): Linear(in_features=10, out_features=1024, bias=True)\n                  )\n                )\n              )\n              (norm): ModuleList(\n                (0): BatchNorm1d(38, eps=1e-05, momentum=0.1, affine=True, track_running_stats=True)\n              )\n              (net_lin): ModuleList(\n                (0): GraphLinear(\n                  (linear): Linear(in_features=256, out_features=512, bias=True)\n                )\n                (1): GraphLinear(\n                  (linear): Linear(in_features=512, out_features=64, bias=True)\n                )\n                (2): GraphLinear(\n                  (linear): Linear(in_features=64, out_features=20, bias=True)\n                )\n              )\n              (norm_lin): ModuleList(\n                (0): BatchNorm1d(38, eps=1e-05, momentum=0.1, affine=True, track_running_stats=True)\n                (1): BatchNorm1d(38, eps=1e-05, momentum=0.1, affine=True, track_running_stats=True)\n              )\n            )\n          )\n          (6): FlowOnGraph(\n            (actnorm): ActNorm2D()\n            (coupling): GraphAffineCoupling(\n              (net): ModuleList(\n                (0): GraphConv(\n                  (graph_linear_self): GraphLinear(\n                    (linear): Linear(in_features=10, out_features=256, bias=True)\n                  )\n                  (graph_linear_edge): GraphLinear(\n                    (linear): Linear(in_features=10, out_features=1024, bias=True)\n                  )\n                )\n              )\n              (norm): ModuleList(\n                (0): BatchNorm1d(38, eps=1e-05, momentum=0.1, affine=True, track_running_stats=True)\n              )\n              (net_lin): ModuleList(\n                (0): GraphLinear(\n                  (linear): Linear(in_features=256, out_features=512, bias=True)\n                )\n                (1): GraphLinear(\n                  (linear): Linear(in_features=512, out_features=64, bias=True)\n                )\n                (2): GraphLinear(\n                  (linear): Linear(in_features=64, out_features=20, bias=True)\n                )\n              )\n              (norm_lin): ModuleList(\n                (0): BatchNorm1d(38, eps=1e-05, momentum=0.1, affine=True, track_running_stats=True)\n                (1): BatchNorm1d(38, eps=1e-05, momentum=0.1, affine=True, track_running_stats=True)\n              )\n            )\n          )\n          (7): FlowOnGraph(\n            (actnorm): ActNorm2D()\n            (coupling): GraphAffineCoupling(\n              (net): ModuleList(\n                (0): GraphConv(\n                  (graph_linear_self): GraphLinear(\n                    (linear): Linear(in_features=10, out_features=256, bias=True)\n                  )\n                  (graph_linear_edge): GraphLinear(\n                    (linear): Linear(in_features=10, out_features=1024, bias=True)\n                  )\n                )\n              )\n              (norm): ModuleList(\n                (0): BatchNorm1d(38, eps=1e-05, momentum=0.1, affine=True, track_running_stats=True)\n              )\n              (net_lin): ModuleList(\n                (0): GraphLinear(\n                  (linear): Linear(in_features=256, out_features=512, bias=True)\n                )\n                (1): GraphLinear(\n                  (linear): Linear(in_features=512, out_features=64, bias=True)\n                )\n                (2): GraphLinear(\n                  (linear): Linear(in_features=64, out_features=20, bias=True)\n                )\n              )\n              (norm_lin): ModuleList(\n                (0): BatchNorm1d(38, eps=1e-05, momentum=0.1, affine=True, track_running_stats=True)\n                (1): BatchNorm1d(38, eps=1e-05, momentum=0.1, affine=True, track_running_stats=True)\n              )\n            )\n          )\n          (8): FlowOnGraph(\n            (actnorm): ActNorm2D()\n            (coupling): GraphAffineCoupling(\n              (net): ModuleList(\n                (0): GraphConv(\n                  (graph_linear_self): GraphLinear(\n                    (linear): Linear(in_features=10, out_features=256, bias=True)\n                  )\n                  (graph_linear_edge): GraphLinear(\n                    (linear): Linear(in_features=10, out_features=1024, bias=True)\n                  )\n                )\n              )\n              (norm): ModuleList(\n                (0): BatchNorm1d(38, eps=1e-05, momentum=0.1, affine=True, track_running_stats=True)\n              )\n              (net_lin): ModuleList(\n                (0): GraphLinear(\n                  (linear): Linear(in_features=256, out_features=512, bias=True)\n                )\n                (1): GraphLinear(\n                  (linear): Linear(in_features=512, out_features=64, bias=True)\n                )\n                (2): GraphLinear(\n                  (linear): Linear(in_features=64, out_features=20, bias=True)\n                )\n              )\n              (norm_lin): ModuleList(\n                (0): BatchNorm1d(38, eps=1e-05, momentum=0.1, affine=True, track_running_stats=True)\n                (1): BatchNorm1d(38, eps=1e-05, momentum=0.1, affine=True, track_running_stats=True)\n              )\n            )\n          )\n          (9): FlowOnGraph(\n            (actnorm): ActNorm2D()\n            (coupling): GraphAffineCoupling(\n              (net): ModuleList(\n                (0): GraphConv(\n                  (graph_linear_self): GraphLinear(\n                    (linear): Linear(in_features=10, out_features=256, bias=True)\n                  )\n                  (graph_linear_edge): GraphLinear(\n                    (linear): Linear(in_features=10, out_features=1024, bias=True)\n                  )\n                )\n              )\n              (norm): ModuleList(\n                (0): BatchNorm1d(38, eps=1e-05, momentum=0.1, affine=True, track_running_stats=True)\n              )\n              (net_lin): ModuleList(\n                (0): GraphLinear(\n                  (linear): Linear(in_features=256, out_features=512, bias=True)\n                )\n                (1): GraphLinear(\n                  (linear): Linear(in_features=512, out_features=64, bias=True)\n                )\n                (2): GraphLinear(\n                  (linear): Linear(in_features=64, out_features=20, bias=True)\n                )\n              )\n              (norm_lin): ModuleList(\n                (0): BatchNorm1d(38, eps=1e-05, momentum=0.1, affine=True, track_running_stats=True)\n                (1): BatchNorm1d(38, eps=1e-05, momentum=0.1, affine=True, track_running_stats=True)\n              )\n            )\n          )\n          (10): FlowOnGraph(\n            (actnorm): ActNorm2D()\n            (coupling): GraphAffineCoupling(\n              (net): ModuleList(\n                (0): GraphConv(\n                  (graph_linear_self): GraphLinear(\n                    (linear): Linear(in_features=10, out_features=256, bias=True)\n                  )\n                  (graph_linear_edge): GraphLinear(\n                    (linear): Linear(in_features=10, out_features=1024, bias=True)\n                  )\n                )\n              )\n              (norm): ModuleList(\n                (0): BatchNorm1d(38, eps=1e-05, momentum=0.1, affine=True, track_running_stats=True)\n              )\n              (net_lin): ModuleList(\n                (0): GraphLinear(\n                  (linear): Linear(in_features=256, out_features=512, bias=True)\n                )\n                (1): GraphLinear(\n                  (linear): Linear(in_features=512, out_features=64, bias=True)\n                )\n                (2): GraphLinear(\n                  (linear): Linear(in_features=64, out_features=20, bias=True)\n                )\n              )\n              (norm_lin): ModuleList(\n                (0): BatchNorm1d(38, eps=1e-05, momentum=0.1, affine=True, track_running_stats=True)\n                (1): BatchNorm1d(38, eps=1e-05, momentum=0.1, affine=True, track_running_stats=True)\n              )\n            )\n          )\n          (11): FlowOnGraph(\n            (actnorm): ActNorm2D()\n            (coupling): GraphAffineCoupling(\n              (net): ModuleList(\n                (0): GraphConv(\n                  (graph_linear_self): GraphLinear(\n                    (linear): Linear(in_features=10, out_features=256, bias=True)\n                  )\n                  (graph_linear_edge): GraphLinear(\n                    (linear): Linear(in_features=10, out_features=1024, bias=True)\n                  )\n                )\n              )\n              (norm): ModuleList(\n                (0): BatchNorm1d(38, eps=1e-05, momentum=0.1, affine=True, track_running_stats=True)\n              )\n              (net_lin): ModuleList(\n                (0): GraphLinear(\n                  (linear): Linear(in_features=256, out_features=512, bias=True)\n                )\n                (1): GraphLinear(\n                  (linear): Linear(in_features=512, out_features=64, bias=True)\n                )\n                (2): GraphLinear(\n                  (linear): Linear(in_features=64, out_features=20, bias=True)\n                )\n              )\n              (norm_lin): ModuleList(\n                (0): BatchNorm1d(38, eps=1e-05, momentum=0.1, affine=True, track_running_stats=True)\n                (1): BatchNorm1d(38, eps=1e-05, momentum=0.1, affine=True, track_running_stats=True)\n              )\n            )\n          )\n          (12): FlowOnGraph(\n            (actnorm): ActNorm2D()\n            (coupling): GraphAffineCoupling(\n              (net): ModuleList(\n                (0): GraphConv(\n                  (graph_linear_self): GraphLinear(\n                    (linear): Linear(in_features=10, out_features=256, bias=True)\n                  )\n                  (graph_linear_edge): GraphLinear(\n                    (linear): Linear(in_features=10, out_features=1024, bias=True)\n                  )\n                )\n              )\n              (norm): ModuleList(\n                (0): BatchNorm1d(38, eps=1e-05, momentum=0.1, affine=True, track_running_stats=True)\n              )\n              (net_lin): ModuleList(\n                (0): GraphLinear(\n                  (linear): Linear(in_features=256, out_features=512, bias=True)\n                )\n                (1): GraphLinear(\n                  (linear): Linear(in_features=512, out_features=64, bias=True)\n                )\n                (2): GraphLinear(\n                  (linear): Linear(in_features=64, out_features=20, bias=True)\n                )\n              )\n              (norm_lin): ModuleList(\n                (0): BatchNorm1d(38, eps=1e-05, momentum=0.1, affine=True, track_running_stats=True)\n                (1): BatchNorm1d(38, eps=1e-05, momentum=0.1, affine=True, track_running_stats=True)\n              )\n            )\n          )\n          (13): FlowOnGraph(\n            (actnorm): ActNorm2D()\n            (coupling): GraphAffineCoupling(\n              (net): ModuleList(\n                (0): GraphConv(\n                  (graph_linear_self): GraphLinear(\n                    (linear): Linear(in_features=10, out_features=256, bias=True)\n                  )\n                  (graph_linear_edge): GraphLinear(\n                    (linear): Linear(in_features=10, out_features=1024, bias=True)\n                  )\n                )\n              )\n              (norm): ModuleList(\n                (0): BatchNorm1d(38, eps=1e-05, momentum=0.1, affine=True, track_running_stats=True)\n              )\n              (net_lin): ModuleList(\n                (0): GraphLinear(\n                  (linear): Linear(in_features=256, out_features=512, bias=True)\n                )\n                (1): GraphLinear(\n                  (linear): Linear(in_features=512, out_features=64, bias=True)\n                )\n                (2): GraphLinear(\n                  (linear): Linear(in_features=64, out_features=20, bias=True)\n                )\n              )\n              (norm_lin): ModuleList(\n                (0): BatchNorm1d(38, eps=1e-05, momentum=0.1, affine=True, track_running_stats=True)\n                (1): BatchNorm1d(38, eps=1e-05, momentum=0.1, affine=True, track_running_stats=True)\n              )\n            )\n          )\n          (14): FlowOnGraph(\n            (actnorm): ActNorm2D()\n            (coupling): GraphAffineCoupling(\n              (net): ModuleList(\n                (0): GraphConv(\n                  (graph_linear_self): GraphLinear(\n                    (linear): Linear(in_features=10, out_features=256, bias=True)\n                  )\n                  (graph_linear_edge): GraphLinear(\n                    (linear): Linear(in_features=10, out_features=1024, bias=True)\n                  )\n                )\n              )\n              (norm): ModuleList(\n                (0): BatchNorm1d(38, eps=1e-05, momentum=0.1, affine=True, track_running_stats=True)\n              )\n              (net_lin): ModuleList(\n                (0): GraphLinear(\n                  (linear): Linear(in_features=256, out_features=512, bias=True)\n                )\n                (1): GraphLinear(\n                  (linear): Linear(in_features=512, out_features=64, bias=True)\n                )\n                (2): GraphLinear(\n                  (linear): Linear(in_features=64, out_features=20, bias=True)\n                )\n              )\n              (norm_lin): ModuleList(\n                (0): BatchNorm1d(38, eps=1e-05, momentum=0.1, affine=True, track_running_stats=True)\n                (1): BatchNorm1d(38, eps=1e-05, momentum=0.1, affine=True, track_running_stats=True)\n              )\n            )\n          )\n          (15): FlowOnGraph(\n            (actnorm): ActNorm2D()\n            (coupling): GraphAffineCoupling(\n              (net): ModuleList(\n                (0): GraphConv(\n                  (graph_linear_self): GraphLinear(\n                    (linear): Linear(in_features=10, out_features=256, bias=True)\n                  )\n                  (graph_linear_edge): GraphLinear(\n                    (linear): Linear(in_features=10, out_features=1024, bias=True)\n                  )\n                )\n              )\n              (norm): ModuleList(\n                (0): BatchNorm1d(38, eps=1e-05, momentum=0.1, affine=True, track_running_stats=True)\n              )\n              (net_lin): ModuleList(\n                (0): GraphLinear(\n                  (linear): Linear(in_features=256, out_features=512, bias=True)\n                )\n                (1): GraphLinear(\n                  (linear): Linear(in_features=512, out_features=64, bias=True)\n                )\n                (2): GraphLinear(\n                  (linear): Linear(in_features=64, out_features=20, bias=True)\n                )\n              )\n              (norm_lin): ModuleList(\n                (0): BatchNorm1d(38, eps=1e-05, momentum=0.1, affine=True, track_running_stats=True)\n                (1): BatchNorm1d(38, eps=1e-05, momentum=0.1, affine=True, track_running_stats=True)\n              )\n            )\n          )\n          (16): FlowOnGraph(\n            (actnorm): ActNorm2D()\n            (coupling): GraphAffineCoupling(\n              (net): ModuleList(\n                (0): GraphConv(\n                  (graph_linear_self): GraphLinear(\n                    (linear): Linear(in_features=10, out_features=256, bias=True)\n                  )\n                  (graph_linear_edge): GraphLinear(\n                    (linear): Linear(in_features=10, out_features=1024, bias=True)\n                  )\n                )\n              )\n              (norm): ModuleList(\n                (0): BatchNorm1d(38, eps=1e-05, momentum=0.1, affine=True, track_running_stats=True)\n              )\n              (net_lin): ModuleList(\n                (0): GraphLinear(\n                  (linear): Linear(in_features=256, out_features=512, bias=True)\n                )\n                (1): GraphLinear(\n                  (linear): Linear(in_features=512, out_features=64, bias=True)\n                )\n                (2): GraphLinear(\n                  (linear): Linear(in_features=64, out_features=20, bias=True)\n                )\n              )\n              (norm_lin): ModuleList(\n                (0): BatchNorm1d(38, eps=1e-05, momentum=0.1, affine=True, track_running_stats=True)\n                (1): BatchNorm1d(38, eps=1e-05, momentum=0.1, affine=True, track_running_stats=True)\n              )\n            )\n          )\n          (17): FlowOnGraph(\n            (actnorm): ActNorm2D()\n            (coupling): GraphAffineCoupling(\n              (net): ModuleList(\n                (0): GraphConv(\n                  (graph_linear_self): GraphLinear(\n                    (linear): Linear(in_features=10, out_features=256, bias=True)\n                  )\n                  (graph_linear_edge): GraphLinear(\n                    (linear): Linear(in_features=10, out_features=1024, bias=True)\n                  )\n                )\n              )\n              (norm): ModuleList(\n                (0): BatchNorm1d(38, eps=1e-05, momentum=0.1, affine=True, track_running_stats=True)\n              )\n              (net_lin): ModuleList(\n                (0): GraphLinear(\n                  (linear): Linear(in_features=256, out_features=512, bias=True)\n                )\n                (1): GraphLinear(\n                  (linear): Linear(in_features=512, out_features=64, bias=True)\n                )\n                (2): GraphLinear(\n                  (linear): Linear(in_features=64, out_features=20, bias=True)\n                )\n              )\n              (norm_lin): ModuleList(\n                (0): BatchNorm1d(38, eps=1e-05, momentum=0.1, affine=True, track_running_stats=True)\n                (1): BatchNorm1d(38, eps=1e-05, momentum=0.1, affine=True, track_running_stats=True)\n              )\n            )\n          )\n          (18): FlowOnGraph(\n            (actnorm): ActNorm2D()\n            (coupling): GraphAffineCoupling(\n              (net): ModuleList(\n                (0): GraphConv(\n                  (graph_linear_self): GraphLinear(\n                    (linear): Linear(in_features=10, out_features=256, bias=True)\n                  )\n                  (graph_linear_edge): GraphLinear(\n                    (linear): Linear(in_features=10, out_features=1024, bias=True)\n                  )\n                )\n              )\n              (norm): ModuleList(\n                (0): BatchNorm1d(38, eps=1e-05, momentum=0.1, affine=True, track_running_stats=True)\n              )\n              (net_lin): ModuleList(\n                (0): GraphLinear(\n                  (linear): Linear(in_features=256, out_features=512, bias=True)\n                )\n                (1): GraphLinear(\n                  (linear): Linear(in_features=512, out_features=64, bias=True)\n                )\n                (2): GraphLinear(\n                  (linear): Linear(in_features=64, out_features=20, bias=True)\n                )\n              )\n              (norm_lin): ModuleList(\n                (0): BatchNorm1d(38, eps=1e-05, momentum=0.1, affine=True, track_running_stats=True)\n                (1): BatchNorm1d(38, eps=1e-05, momentum=0.1, affine=True, track_running_stats=True)\n              )\n            )\n          )\n          (19): FlowOnGraph(\n            (actnorm): ActNorm2D()\n            (coupling): GraphAffineCoupling(\n              (net): ModuleList(\n                (0): GraphConv(\n                  (graph_linear_self): GraphLinear(\n                    (linear): Linear(in_features=10, out_features=256, bias=True)\n                  )\n                  (graph_linear_edge): GraphLinear(\n                    (linear): Linear(in_features=10, out_features=1024, bias=True)\n                  )\n                )\n              )\n              (norm): ModuleList(\n                (0): BatchNorm1d(38, eps=1e-05, momentum=0.1, affine=True, track_running_stats=True)\n              )\n              (net_lin): ModuleList(\n                (0): GraphLinear(\n                  (linear): Linear(in_features=256, out_features=512, bias=True)\n                )\n                (1): GraphLinear(\n                  (linear): Linear(in_features=512, out_features=64, bias=True)\n                )\n                (2): GraphLinear(\n                  (linear): Linear(in_features=64, out_features=20, bias=True)\n                )\n              )\n              (norm_lin): ModuleList(\n                (0): BatchNorm1d(38, eps=1e-05, momentum=0.1, affine=True, track_running_stats=True)\n                (1): BatchNorm1d(38, eps=1e-05, momentum=0.1, affine=True, track_running_stats=True)\n              )\n            )\n          )\n          (20): FlowOnGraph(\n            (actnorm): ActNorm2D()\n            (coupling): GraphAffineCoupling(\n              (net): ModuleList(\n                (0): GraphConv(\n                  (graph_linear_self): GraphLinear(\n                    (linear): Linear(in_features=10, out_features=256, bias=True)\n                  )\n                  (graph_linear_edge): GraphLinear(\n                    (linear): Linear(in_features=10, out_features=1024, bias=True)\n                  )\n                )\n              )\n              (norm): ModuleList(\n                (0): BatchNorm1d(38, eps=1e-05, momentum=0.1, affine=True, track_running_stats=True)\n              )\n              (net_lin): ModuleList(\n                (0): GraphLinear(\n                  (linear): Linear(in_features=256, out_features=512, bias=True)\n                )\n                (1): GraphLinear(\n                  (linear): Linear(in_features=512, out_features=64, bias=True)\n                )\n                (2): GraphLinear(\n                  (linear): Linear(in_features=64, out_features=20, bias=True)\n                )\n              )\n              (norm_lin): ModuleList(\n                (0): BatchNorm1d(38, eps=1e-05, momentum=0.1, affine=True, track_running_stats=True)\n                (1): BatchNorm1d(38, eps=1e-05, momentum=0.1, affine=True, track_running_stats=True)\n              )\n            )\n          )\n          (21): FlowOnGraph(\n            (actnorm): ActNorm2D()\n            (coupling): GraphAffineCoupling(\n              (net): ModuleList(\n                (0): GraphConv(\n                  (graph_linear_self): GraphLinear(\n                    (linear): Linear(in_features=10, out_features=256, bias=True)\n                  )\n                  (graph_linear_edge): GraphLinear(\n                    (linear): Linear(in_features=10, out_features=1024, bias=True)\n                  )\n                )\n              )\n              (norm): ModuleList(\n                (0): BatchNorm1d(38, eps=1e-05, momentum=0.1, affine=True, track_running_stats=True)\n              )\n              (net_lin): ModuleList(\n                (0): GraphLinear(\n                  (linear): Linear(in_features=256, out_features=512, bias=True)\n                )\n                (1): GraphLinear(\n                  (linear): Linear(in_features=512, out_features=64, bias=True)\n                )\n                (2): GraphLinear(\n                  (linear): Linear(in_features=64, out_features=20, bias=True)\n                )\n              )\n              (norm_lin): ModuleList(\n                (0): BatchNorm1d(38, eps=1e-05, momentum=0.1, affine=True, track_running_stats=True)\n                (1): BatchNorm1d(38, eps=1e-05, momentum=0.1, affine=True, track_running_stats=True)\n              )\n            )\n          )\n          (22): FlowOnGraph(\n            (actnorm): ActNorm2D()\n            (coupling): GraphAffineCoupling(\n              (net): ModuleList(\n                (0): GraphConv(\n                  (graph_linear_self): GraphLinear(\n                    (linear): Linear(in_features=10, out_features=256, bias=True)\n                  )\n                  (graph_linear_edge): GraphLinear(\n                    (linear): Linear(in_features=10, out_features=1024, bias=True)\n                  )\n                )\n              )\n              (norm): ModuleList(\n                (0): BatchNorm1d(38, eps=1e-05, momentum=0.1, affine=True, track_running_stats=True)\n              )\n              (net_lin): ModuleList(\n                (0): GraphLinear(\n                  (linear): Linear(in_features=256, out_features=512, bias=True)\n                )\n                (1): GraphLinear(\n                  (linear): Linear(in_features=512, out_features=64, bias=True)\n                )\n                (2): GraphLinear(\n                  (linear): Linear(in_features=64, out_features=20, bias=True)\n                )\n              )\n              (norm_lin): ModuleList(\n                (0): BatchNorm1d(38, eps=1e-05, momentum=0.1, affine=True, track_running_stats=True)\n                (1): BatchNorm1d(38, eps=1e-05, momentum=0.1, affine=True, track_running_stats=True)\n              )\n            )\n          )\n          (23): FlowOnGraph(\n            (actnorm): ActNorm2D()\n            (coupling): GraphAffineCoupling(\n              (net): ModuleList(\n                (0): GraphConv(\n                  (graph_linear_self): GraphLinear(\n                    (linear): Linear(in_features=10, out_features=256, bias=True)\n                  )\n                  (graph_linear_edge): GraphLinear(\n                    (linear): Linear(in_features=10, out_features=1024, bias=True)\n                  )\n                )\n              )\n              (norm): ModuleList(\n                (0): BatchNorm1d(38, eps=1e-05, momentum=0.1, affine=True, track_running_stats=True)\n              )\n              (net_lin): ModuleList(\n                (0): GraphLinear(\n                  (linear): Linear(in_features=256, out_features=512, bias=True)\n                )\n                (1): GraphLinear(\n                  (linear): Linear(in_features=512, out_features=64, bias=True)\n                )\n                (2): GraphLinear(\n                  (linear): Linear(in_features=64, out_features=20, bias=True)\n                )\n              )\n              (norm_lin): ModuleList(\n                (0): BatchNorm1d(38, eps=1e-05, momentum=0.1, affine=True, track_running_stats=True)\n                (1): BatchNorm1d(38, eps=1e-05, momentum=0.1, affine=True, track_running_stats=True)\n              )\n            )\n          )\n          (24): FlowOnGraph(\n            (actnorm): ActNorm2D()\n            (coupling): GraphAffineCoupling(\n              (net): ModuleList(\n                (0): GraphConv(\n                  (graph_linear_self): GraphLinear(\n                    (linear): Linear(in_features=10, out_features=256, bias=True)\n                  )\n                  (graph_linear_edge): GraphLinear(\n                    (linear): Linear(in_features=10, out_features=1024, bias=True)\n                  )\n                )\n              )\n              (norm): ModuleList(\n                (0): BatchNorm1d(38, eps=1e-05, momentum=0.1, affine=True, track_running_stats=True)\n              )\n              (net_lin): ModuleList(\n                (0): GraphLinear(\n                  (linear): Linear(in_features=256, out_features=512, bias=True)\n                )\n                (1): GraphLinear(\n                  (linear): Linear(in_features=512, out_features=64, bias=True)\n                )\n                (2): GraphLinear(\n                  (linear): Linear(in_features=64, out_features=20, bias=True)\n                )\n              )\n              (norm_lin): ModuleList(\n                (0): BatchNorm1d(38, eps=1e-05, momentum=0.1, affine=True, track_running_stats=True)\n                (1): BatchNorm1d(38, eps=1e-05, momentum=0.1, affine=True, track_running_stats=True)\n              )\n            )\n          )\n          (25): FlowOnGraph(\n            (actnorm): ActNorm2D()\n            (coupling): GraphAffineCoupling(\n              (net): ModuleList(\n                (0): GraphConv(\n                  (graph_linear_self): GraphLinear(\n                    (linear): Linear(in_features=10, out_features=256, bias=True)\n                  )\n                  (graph_linear_edge): GraphLinear(\n                    (linear): Linear(in_features=10, out_features=1024, bias=True)\n                  )\n                )\n              )\n              (norm): ModuleList(\n                (0): BatchNorm1d(38, eps=1e-05, momentum=0.1, affine=True, track_running_stats=True)\n              )\n              (net_lin): ModuleList(\n                (0): GraphLinear(\n                  (linear): Linear(in_features=256, out_features=512, bias=True)\n                )\n                (1): GraphLinear(\n                  (linear): Linear(in_features=512, out_features=64, bias=True)\n                )\n                (2): GraphLinear(\n                  (linear): Linear(in_features=64, out_features=20, bias=True)\n                )\n              )\n              (norm_lin): ModuleList(\n                (0): BatchNorm1d(38, eps=1e-05, momentum=0.1, affine=True, track_running_stats=True)\n                (1): BatchNorm1d(38, eps=1e-05, momentum=0.1, affine=True, track_running_stats=True)\n              )\n            )\n          )\n          (26): FlowOnGraph(\n            (actnorm): ActNorm2D()\n            (coupling): GraphAffineCoupling(\n              (net): ModuleList(\n                (0): GraphConv(\n                  (graph_linear_self): GraphLinear(\n                    (linear): Linear(in_features=10, out_features=256, bias=True)\n                  )\n                  (graph_linear_edge): GraphLinear(\n                    (linear): Linear(in_features=10, out_features=1024, bias=True)\n                  )\n                )\n              )\n              (norm): ModuleList(\n                (0): BatchNorm1d(38, eps=1e-05, momentum=0.1, affine=True, track_running_stats=True)\n              )\n              (net_lin): ModuleList(\n                (0): GraphLinear(\n                  (linear): Linear(in_features=256, out_features=512, bias=True)\n                )\n                (1): GraphLinear(\n                  (linear): Linear(in_features=512, out_features=64, bias=True)\n                )\n                (2): GraphLinear(\n                  (linear): Linear(in_features=64, out_features=20, bias=True)\n                )\n              )\n              (norm_lin): ModuleList(\n                (0): BatchNorm1d(38, eps=1e-05, momentum=0.1, affine=True, track_running_stats=True)\n                (1): BatchNorm1d(38, eps=1e-05, momentum=0.1, affine=True, track_running_stats=True)\n              )\n            )\n          )\n          (27): FlowOnGraph(\n            (actnorm): ActNorm2D()\n            (coupling): GraphAffineCoupling(\n              (net): ModuleList(\n                (0): GraphConv(\n                  (graph_linear_self): GraphLinear(\n                    (linear): Linear(in_features=10, out_features=256, bias=True)\n                  )\n                  (graph_linear_edge): GraphLinear(\n                    (linear): Linear(in_features=10, out_features=1024, bias=True)\n                  )\n                )\n              )\n              (norm): ModuleList(\n                (0): BatchNorm1d(38, eps=1e-05, momentum=0.1, affine=True, track_running_stats=True)\n              )\n              (net_lin): ModuleList(\n                (0): GraphLinear(\n                  (linear): Linear(in_features=256, out_features=512, bias=True)\n                )\n                (1): GraphLinear(\n                  (linear): Linear(in_features=512, out_features=64, bias=True)\n                )\n                (2): GraphLinear(\n                  (linear): Linear(in_features=64, out_features=20, bias=True)\n                )\n              )\n              (norm_lin): ModuleList(\n                (0): BatchNorm1d(38, eps=1e-05, momentum=0.1, affine=True, track_running_stats=True)\n                (1): BatchNorm1d(38, eps=1e-05, momentum=0.1, affine=True, track_running_stats=True)\n              )\n            )\n          )\n          (28): FlowOnGraph(\n            (actnorm): ActNorm2D()\n            (coupling): GraphAffineCoupling(\n              (net): ModuleList(\n                (0): GraphConv(\n                  (graph_linear_self): GraphLinear(\n                    (linear): Linear(in_features=10, out_features=256, bias=True)\n                  )\n                  (graph_linear_edge): GraphLinear(\n                    (linear): Linear(in_features=10, out_features=1024, bias=True)\n                  )\n                )\n              )\n              (norm): ModuleList(\n                (0): BatchNorm1d(38, eps=1e-05, momentum=0.1, affine=True, track_running_stats=True)\n              )\n              (net_lin): ModuleList(\n                (0): GraphLinear(\n                  (linear): Linear(in_features=256, out_features=512, bias=True)\n                )\n                (1): GraphLinear(\n                  (linear): Linear(in_features=512, out_features=64, bias=True)\n                )\n                (2): GraphLinear(\n                  (linear): Linear(in_features=64, out_features=20, bias=True)\n                )\n              )\n              (norm_lin): ModuleList(\n                (0): BatchNorm1d(38, eps=1e-05, momentum=0.1, affine=True, track_running_stats=True)\n                (1): BatchNorm1d(38, eps=1e-05, momentum=0.1, affine=True, track_running_stats=True)\n              )\n            )\n          )\n          (29): FlowOnGraph(\n            (actnorm): ActNorm2D()\n            (coupling): GraphAffineCoupling(\n              (net): ModuleList(\n                (0): GraphConv(\n                  (graph_linear_self): GraphLinear(\n                    (linear): Linear(in_features=10, out_features=256, bias=True)\n                  )\n                  (graph_linear_edge): GraphLinear(\n                    (linear): Linear(in_features=10, out_features=1024, bias=True)\n                  )\n                )\n              )\n              (norm): ModuleList(\n                (0): BatchNorm1d(38, eps=1e-05, momentum=0.1, affine=True, track_running_stats=True)\n              )\n              (net_lin): ModuleList(\n                (0): GraphLinear(\n                  (linear): Linear(in_features=256, out_features=512, bias=True)\n                )\n                (1): GraphLinear(\n                  (linear): Linear(in_features=512, out_features=64, bias=True)\n                )\n                (2): GraphLinear(\n                  (linear): Linear(in_features=64, out_features=20, bias=True)\n                )\n              )\n              (norm_lin): ModuleList(\n                (0): BatchNorm1d(38, eps=1e-05, momentum=0.1, affine=True, track_running_stats=True)\n                (1): BatchNorm1d(38, eps=1e-05, momentum=0.1, affine=True, track_running_stats=True)\n              )\n            )\n          )\n          (30): FlowOnGraph(\n            (actnorm): ActNorm2D()\n            (coupling): GraphAffineCoupling(\n              (net): ModuleList(\n                (0): GraphConv(\n                  (graph_linear_self): GraphLinear(\n                    (linear): Linear(in_features=10, out_features=256, bias=True)\n                  )\n                  (graph_linear_edge): GraphLinear(\n                    (linear): Linear(in_features=10, out_features=1024, bias=True)\n                  )\n                )\n              )\n              (norm): ModuleList(\n                (0): BatchNorm1d(38, eps=1e-05, momentum=0.1, affine=True, track_running_stats=True)\n              )\n              (net_lin): ModuleList(\n                (0): GraphLinear(\n                  (linear): Linear(in_features=256, out_features=512, bias=True)\n                )\n                (1): GraphLinear(\n                  (linear): Linear(in_features=512, out_features=64, bias=True)\n                )\n                (2): GraphLinear(\n                  (linear): Linear(in_features=64, out_features=20, bias=True)\n                )\n              )\n              (norm_lin): ModuleList(\n                (0): BatchNorm1d(38, eps=1e-05, momentum=0.1, affine=True, track_running_stats=True)\n                (1): BatchNorm1d(38, eps=1e-05, momentum=0.1, affine=True, track_running_stats=True)\n              )\n            )\n          )\n          (31): FlowOnGraph(\n            (actnorm): ActNorm2D()\n            (coupling): GraphAffineCoupling(\n              (net): ModuleList(\n                (0): GraphConv(\n                  (graph_linear_self): GraphLinear(\n                    (linear): Linear(in_features=10, out_features=256, bias=True)\n                  )\n                  (graph_linear_edge): GraphLinear(\n                    (linear): Linear(in_features=10, out_features=1024, bias=True)\n                  )\n                )\n              )\n              (norm): ModuleList(\n                (0): BatchNorm1d(38, eps=1e-05, momentum=0.1, affine=True, track_running_stats=True)\n              )\n              (net_lin): ModuleList(\n                (0): GraphLinear(\n                  (linear): Linear(in_features=256, out_features=512, bias=True)\n                )\n                (1): GraphLinear(\n                  (linear): Linear(in_features=512, out_features=64, bias=True)\n                )\n                (2): GraphLinear(\n                  (linear): Linear(in_features=64, out_features=20, bias=True)\n                )\n              )\n              (norm_lin): ModuleList(\n                (0): BatchNorm1d(38, eps=1e-05, momentum=0.1, affine=True, track_running_stats=True)\n                (1): BatchNorm1d(38, eps=1e-05, momentum=0.1, affine=True, track_running_stats=True)\n              )\n            )\n          )\n          (32): FlowOnGraph(\n            (actnorm): ActNorm2D()\n            (coupling): GraphAffineCoupling(\n              (net): ModuleList(\n                (0): GraphConv(\n                  (graph_linear_self): GraphLinear(\n                    (linear): Linear(in_features=10, out_features=256, bias=True)\n                  )\n                  (graph_linear_edge): GraphLinear(\n                    (linear): Linear(in_features=10, out_features=1024, bias=True)\n                  )\n                )\n              )\n              (norm): ModuleList(\n                (0): BatchNorm1d(38, eps=1e-05, momentum=0.1, affine=True, track_running_stats=True)\n              )\n              (net_lin): ModuleList(\n                (0): GraphLinear(\n                  (linear): Linear(in_features=256, out_features=512, bias=True)\n                )\n                (1): GraphLinear(\n                  (linear): Linear(in_features=512, out_features=64, bias=True)\n                )\n                (2): GraphLinear(\n                  (linear): Linear(in_features=64, out_features=20, bias=True)\n                )\n              )\n              (norm_lin): ModuleList(\n                (0): BatchNorm1d(38, eps=1e-05, momentum=0.1, affine=True, track_running_stats=True)\n                (1): BatchNorm1d(38, eps=1e-05, momentum=0.1, affine=True, track_running_stats=True)\n              )\n            )\n          )\n          (33): FlowOnGraph(\n            (actnorm): ActNorm2D()\n            (coupling): GraphAffineCoupling(\n              (net): ModuleList(\n                (0): GraphConv(\n                  (graph_linear_self): GraphLinear(\n                    (linear): Linear(in_features=10, out_features=256, bias=True)\n                  )\n                  (graph_linear_edge): GraphLinear(\n                    (linear): Linear(in_features=10, out_features=1024, bias=True)\n                  )\n                )\n              )\n              (norm): ModuleList(\n                (0): BatchNorm1d(38, eps=1e-05, momentum=0.1, affine=True, track_running_stats=True)\n              )\n              (net_lin): ModuleList(\n                (0): GraphLinear(\n                  (linear): Linear(in_features=256, out_features=512, bias=True)\n                )\n                (1): GraphLinear(\n                  (linear): Linear(in_features=512, out_features=64, bias=True)\n                )\n                (2): GraphLinear(\n                  (linear): Linear(in_features=64, out_features=20, bias=True)\n                )\n              )\n              (norm_lin): ModuleList(\n                (0): BatchNorm1d(38, eps=1e-05, momentum=0.1, affine=True, track_running_stats=True)\n                (1): BatchNorm1d(38, eps=1e-05, momentum=0.1, affine=True, track_running_stats=True)\n              )\n            )\n          )\n          (34): FlowOnGraph(\n            (actnorm): ActNorm2D()\n            (coupling): GraphAffineCoupling(\n              (net): ModuleList(\n                (0): GraphConv(\n                  (graph_linear_self): GraphLinear(\n                    (linear): Linear(in_features=10, out_features=256, bias=True)\n                  )\n                  (graph_linear_edge): GraphLinear(\n                    (linear): Linear(in_features=10, out_features=1024, bias=True)\n                  )\n                )\n              )\n              (norm): ModuleList(\n                (0): BatchNorm1d(38, eps=1e-05, momentum=0.1, affine=True, track_running_stats=True)\n              )\n              (net_lin): ModuleList(\n                (0): GraphLinear(\n                  (linear): Linear(in_features=256, out_features=512, bias=True)\n                )\n                (1): GraphLinear(\n                  (linear): Linear(in_features=512, out_features=64, bias=True)\n                )\n                (2): GraphLinear(\n                  (linear): Linear(in_features=64, out_features=20, bias=True)\n                )\n              )\n              (norm_lin): ModuleList(\n                (0): BatchNorm1d(38, eps=1e-05, momentum=0.1, affine=True, track_running_stats=True)\n                (1): BatchNorm1d(38, eps=1e-05, momentum=0.1, affine=True, track_running_stats=True)\n              )\n            )\n          )\n          (35): FlowOnGraph(\n            (actnorm): ActNorm2D()\n            (coupling): GraphAffineCoupling(\n              (net): ModuleList(\n                (0): GraphConv(\n                  (graph_linear_self): GraphLinear(\n                    (linear): Linear(in_features=10, out_features=256, bias=True)\n                  )\n                  (graph_linear_edge): GraphLinear(\n                    (linear): Linear(in_features=10, out_features=1024, bias=True)\n                  )\n                )\n              )\n              (norm): ModuleList(\n                (0): BatchNorm1d(38, eps=1e-05, momentum=0.1, affine=True, track_running_stats=True)\n              )\n              (net_lin): ModuleList(\n                (0): GraphLinear(\n                  (linear): Linear(in_features=256, out_features=512, bias=True)\n                )\n                (1): GraphLinear(\n                  (linear): Linear(in_features=512, out_features=64, bias=True)\n                )\n                (2): GraphLinear(\n                  (linear): Linear(in_features=64, out_features=20, bias=True)\n                )\n              )\n              (norm_lin): ModuleList(\n                (0): BatchNorm1d(38, eps=1e-05, momentum=0.1, affine=True, track_running_stats=True)\n                (1): BatchNorm1d(38, eps=1e-05, momentum=0.1, affine=True, track_running_stats=True)\n              )\n            )\n          )\n          (36): FlowOnGraph(\n            (actnorm): ActNorm2D()\n            (coupling): GraphAffineCoupling(\n              (net): ModuleList(\n                (0): GraphConv(\n                  (graph_linear_self): GraphLinear(\n                    (linear): Linear(in_features=10, out_features=256, bias=True)\n                  )\n                  (graph_linear_edge): GraphLinear(\n                    (linear): Linear(in_features=10, out_features=1024, bias=True)\n                  )\n                )\n              )\n              (norm): ModuleList(\n                (0): BatchNorm1d(38, eps=1e-05, momentum=0.1, affine=True, track_running_stats=True)\n              )\n              (net_lin): ModuleList(\n                (0): GraphLinear(\n                  (linear): Linear(in_features=256, out_features=512, bias=True)\n                )\n                (1): GraphLinear(\n                  (linear): Linear(in_features=512, out_features=64, bias=True)\n                )\n                (2): GraphLinear(\n                  (linear): Linear(in_features=64, out_features=20, bias=True)\n                )\n              )\n              (norm_lin): ModuleList(\n                (0): BatchNorm1d(38, eps=1e-05, momentum=0.1, affine=True, track_running_stats=True)\n                (1): BatchNorm1d(38, eps=1e-05, momentum=0.1, affine=True, track_running_stats=True)\n              )\n            )\n          )\n          (37): FlowOnGraph(\n            (actnorm): ActNorm2D()\n            (coupling): GraphAffineCoupling(\n              (net): ModuleList(\n                (0): GraphConv(\n                  (graph_linear_self): GraphLinear(\n                    (linear): Linear(in_features=10, out_features=256, bias=True)\n                  )\n                  (graph_linear_edge): GraphLinear(\n                    (linear): Linear(in_features=10, out_features=1024, bias=True)\n                  )\n                )\n              )\n              (norm): ModuleList(\n                (0): BatchNorm1d(38, eps=1e-05, momentum=0.1, affine=True, track_running_stats=True)\n              )\n              (net_lin): ModuleList(\n                (0): GraphLinear(\n                  (linear): Linear(in_features=256, out_features=512, bias=True)\n                )\n                (1): GraphLinear(\n                  (linear): Linear(in_features=512, out_features=64, bias=True)\n                )\n                (2): GraphLinear(\n                  (linear): Linear(in_features=64, out_features=20, bias=True)\n                )\n              )\n              (norm_lin): ModuleList(\n                (0): BatchNorm1d(38, eps=1e-05, momentum=0.1, affine=True, track_running_stats=True)\n                (1): BatchNorm1d(38, eps=1e-05, momentum=0.1, affine=True, track_running_stats=True)\n              )\n            )\n          )\n        )\n      )\n    )\n  )\n)"
     },
     "execution_count": 4,
     "metadata": {},
     "output_type": "execute_result"
    }
   ],
   "source": [
    "import os\n",
    "import time\n",
    "import argparse\n",
    "from distutils.util import strtobool\n",
    "from mflow.models.hyperparams import Hyperparameters\n",
    "from mflow.utils.model_utils import load_model, get_latent_vec\n",
    "\n",
    "parser = argparse.ArgumentParser()\n",
    "parser.add_argument(\"--input_text\", type=str, default='This molecule is beautiful.')\n",
    "parser.add_argument(\"--checkpoint_name\", type=str, default='littlegin=graphclinit_bert=scibert_epoch=299-step=18300.ckpt')\n",
    "parser.add_argument(\"--model_dir\", type=str, default='./results')\n",
    "parser.add_argument(\"--data_dir\", type=str, default='../data')\n",
    "parser.add_argument('--data_name', type=str, default='qm9', choices=['qm9', 'zinc250k'], help='dataset name')\n",
    "# parser.add_argument('--molecule_file', type=str, default='qm9_relgcn_kekulized_ggnp.npz',\n",
    "#                     help='path to molecule dataset')\n",
    "parser.add_argument(\"--snapshot-path\", \"-snapshot\", type=str, required=True)\n",
    "parser.add_argument(\"--hyperparams-path\", type=str, default='moflow-params.json', required=True)\n",
    "parser.add_argument(\"--gpu\", type=int, default=-1)\n",
    "parser.add_argument(\"--batch-size\", type=int, default=100)\n",
    "parser.add_argument('--additive_transformations', type=strtobool, default='false',\n",
    "                    help='apply only additive coupling layers')\n",
    "parser.add_argument('--delta', type=float, default=0.1)\n",
    "parser.add_argument('--n_experiments', type=int, default=1, help='number of times generation to be run')\n",
    "parser.add_argument('--seed', type=int, default=123)\n",
    "parser.add_argument('--debug', action='store_true', default=False)\n",
    "parser.add_argument('--temperature', type=float, default=1.0,\n",
    "                    help='temperature of the gaussian distribution')\n",
    "# parser.add_argument('--draw_neighborhood', type=strtobool, default='true',\n",
    "#                     help='if neighborhood of a molecule to be visualized')\n",
    "\n",
    "parser.add_argument('--save_fig', type=strtobool, default='true')\n",
    "parser.add_argument('--save_score', type=strtobool, default='true')\n",
    "parser.add_argument('-r', '--reconstruct', action='store_true', default=False)\n",
    "# parser.add_argument('-i', '--interpolation', action='store_true', default=False)\n",
    "parser.add_argument('--int2point', action='store_true', default=False)\n",
    "parser.add_argument('--intgrid', action='store_true', default=False)\n",
    "\n",
    "parser.add_argument('--inter_times', type=int, default=5)\n",
    "\n",
    "parser.add_argument('--correct_validity', type=strtobool, default='true',\n",
    "                    help='if apply validity correction after the generation')\n",
    "args = parser.parse_args(\"--model_dir results/zinc250k_512t2cnn_256gnn_512-64lin_10flow_19fold_convlu2_38af-1-1mask -snapshot model_snapshot_epoch_200 --gpu 0 --data_name zinc250k --hyperparams-path moflow-params.json --temperature 0.85 --batch-size 1 --n_experiments 5\".split(\" \"))\n",
    "\n",
    "start = time.time()\n",
    "print(\"Start at Time: {}\".format(time.ctime()))\n",
    "# chainer.config.train = False\n",
    "snapshot_path = os.path.join(args.model_dir, args.snapshot_path)\n",
    "hyperparams_path = os.path.join(args.model_dir, args.hyperparams_path)\n",
    "print(\"loading hyperparamaters from {}\".format(hyperparams_path))\n",
    "model_params = Hyperparameters(path=hyperparams_path)\n",
    "model = load_model(snapshot_path, model_params, debug=True)\n",
    "if len(model.ln_var) == 1:\n",
    "    print('model.ln_var: {:.2f}'.format(model.ln_var.item()))\n",
    "elif len(model.ln_var) == 2:\n",
    "    print('model.ln_var[0]: {:.2f}, model.ln_var[1]: {:.2f}'.format(model.ln_var[0].item(), model.ln_var[1].item()))\n",
    "\n",
    "if args.gpu >= 0:\n",
    "    # device = args.gpu\n",
    "    device = torch.device('cuda:'+str(args.gpu) if torch.cuda.is_available() else 'cpu')\n",
    "else:\n",
    "    device = torch.device('cpu')\n",
    "model.to(device)\n",
    "print(f'device = {device}')\n",
    "model.eval()  # Set model for evaluation"
   ],
   "metadata": {
    "collapsed": false
   }
  },
  {
   "cell_type": "code",
   "execution_count": 5,
   "outputs": [],
   "source": [
    "# z = get_latent_vec(model, \"O=C(NC[C@H]1CCCO1)c1ccccc1N1CCCC1=O\", data_name='zinc250k')\n",
    "from mflow.utils.model_utils import smiles_to_adj, rescale_adj\n",
    "\n",
    "def smiles_to_moflow_rep(smiles):\n",
    "    adj, atoms = smiles_to_adj(smiles, 'zinc250k')\n",
    "    adj_normalized = rescale_adj(adj)\n",
    "    with torch.no_grad():\n",
    "        device = next(model.parameters()).device\n",
    "        z0, _ = model(adj.to(device), atoms.to(device), adj_normalized.to(device))\n",
    "\n",
    "    h, adj_h = z0\n",
    "    # Flatten h and adj_h into 1D tensors\n",
    "    h_flat = h.view(h.shape[0], -1)\n",
    "    adj_h_flat = adj_h.view(adj_h.shape[0], -1)\n",
    "\n",
    "    return torch.cat([h_flat, adj_h_flat], dim=1)"
   ],
   "metadata": {
    "collapsed": false
   }
  },
  {
   "cell_type": "code",
   "execution_count": 6,
   "outputs": [],
   "source": [
    "with open('MoleculeSTM_editing_SMILES.txt', 'r') as file:\n",
    "    smiles = file.readlines()"
   ],
   "metadata": {
    "collapsed": false
   }
  },
  {
   "cell_type": "code",
   "execution_count": 7,
   "outputs": [
    {
     "name": "stderr",
     "output_type": "stream",
     "text": [
      "100%|██████████| 200/200 [00:22<00:00,  8.92it/s]\n"
     ]
    }
   ],
   "source": [
    "from tqdm import tqdm\n",
    "\n",
    "smiles_moflow_reps = []\n",
    "for smile in tqdm(smiles):\n",
    "    smiles_moflow_reps.append(smiles_to_moflow_rep(smile))"
   ],
   "metadata": {
    "collapsed": false
   }
  },
  {
   "cell_type": "code",
   "execution_count": 8,
   "outputs": [],
   "source": [
    "import pickle\n",
    "\n",
    "pickle.dump(smiles_to_moflow_rep, open('moflow_reps.pkl', 'wb'))"
   ],
   "metadata": {
    "collapsed": false
   }
  },
  {
   "cell_type": "code",
   "execution_count": 9,
   "outputs": [
    {
     "data": {
      "text/plain": "(torch.Size([768]), torch.Size([6156]))"
     },
     "execution_count": 9,
     "metadata": {},
     "output_type": "execute_result"
    }
   ],
   "source": [
    "from_embeddings = [mol.squeeze(0).to('cuda').float() for mol in all_mols]\n",
    "to_embeddings = [mol.squeeze(0).to('cuda').float() for mol in smiles_moflow_reps]\n",
    "\n",
    "from_embeddings[0].shape, to_embeddings[0].shape"
   ],
   "metadata": {
    "collapsed": false
   }
  },
  {
   "cell_type": "code",
   "execution_count": 10,
   "outputs": [],
   "source": [
    "import torch\n",
    "from torch import nn, optim\n",
    "\n",
    "class ProjectionModel(nn.Module):\n",
    "    def __init__(self):\n",
    "        super(ProjectionModel, self).__init__()\n",
    "        self.model = nn.Sequential(\n",
    "            nn.Linear(768, 2048),\n",
    "            nn.ReLU(),\n",
    "            nn.Linear(2048, 4096),\n",
    "            nn.ReLU(),\n",
    "            nn.Linear(4096, 6156)\n",
    "        )\n",
    "\n",
    "    def forward(self, x):\n",
    "        return self.model(x)\n",
    "\n",
    "model = ProjectionModel()\n",
    "\n",
    "# Define a loss function\n",
    "def custom_loss(y_pred, y_true):\n",
    "    diff = y_pred - y_true\n",
    "    return (y_pred - y_true).pow(2).sum(-1).mean()\n",
    "\n",
    "# Define an optimizer\n",
    "optimizer = optim.Adam(model.parameters(), lr=0.001)\n",
    "\n",
    "device = torch.device('cuda' if torch.cuda.is_available() else 'cpu')\n",
    "\n",
    "# Move model to the device\n",
    "model = model.to(device)"
   ],
   "metadata": {
    "collapsed": false
   }
  },
  {
   "cell_type": "code",
   "execution_count": null,
   "outputs": [
    {
     "name": "stderr",
     "output_type": "stream",
     "text": [
      "Training:   0%|                               | 0/100 [00:00<?, ?it/s]\n",
      "Epoch 1:   0%|                                | 0/200 [00:00<?, ?it/s]\u001B[A\n",
      "Epoch 1:   2%|▌                       | 5/200 [00:00<00:04, 40.62it/s]\u001B[A\n",
      "Epoch 1:   5%|█▏                     | 10/200 [00:00<00:04, 40.61it/s]\u001B[A\n",
      "Epoch 1:   8%|█▋                     | 15/200 [00:00<00:04, 40.73it/s]\u001B[A\n",
      "Epoch 1:  10%|██▎                    | 20/200 [00:00<00:04, 40.79it/s]\u001B[A"
     ]
    }
   ],
   "source": [
    "from tqdm import tqdm\n",
    "\n",
    "# Training loop\n",
    "def train(model, from_embeddings, to_embeddings, optimizer, loss_func, epochs):\n",
    "    model.train()\n",
    "\n",
    "    pbar_total = tqdm(total=epochs, desc=\"Training\", ncols=70)\n",
    "\n",
    "    for epoch in range(epochs):\n",
    "        total_loss = 0\n",
    "        pbar_epoch = tqdm(total=len(from_embeddings), desc=f\"Epoch {epoch+1}\", ncols=70, leave=False)\n",
    "\n",
    "        for from_embed, to_embed in zip(from_embeddings, to_embeddings):\n",
    "            from_embed = from_embed\n",
    "            to_embed = to_embed\n",
    "\n",
    "            # zero the parameter gradients\n",
    "            optimizer.zero_grad()\n",
    "\n",
    "            # forward pass\n",
    "            outputs = model(from_embed)\n",
    "\n",
    "            # calculate loss\n",
    "            loss = loss_func(outputs, to_embed)\n",
    "\n",
    "            # backward pass\n",
    "            loss.backward()\n",
    "\n",
    "            # update model parameters\n",
    "            optimizer.step()\n",
    "\n",
    "            total_loss += loss.item()\n",
    "            pbar_epoch.update(1)\n",
    "\n",
    "        pbar_epoch.close()\n",
    "\n",
    "        avg_loss = total_loss / len(from_embeddings)\n",
    "        print(f\"Epoch {epoch+1}, Loss: {avg_loss}\")\n",
    "\n",
    "        pbar_total.update(1)\n",
    "\n",
    "    pbar_total.close()\n",
    "\n",
    "# Train the model\n",
    "train(model, from_embeddings, to_embeddings, optimizer, custom_loss, epochs=100)\n"
   ],
   "metadata": {
    "collapsed": false,
    "pycharm": {
     "is_executing": true
    }
   }
  },
  {
   "cell_type": "code",
   "execution_count": null,
   "outputs": [],
   "source": [],
   "metadata": {
    "collapsed": false,
    "pycharm": {
     "is_executing": true
    }
   }
  },
  {
   "cell_type": "code",
   "execution_count": null,
   "outputs": [],
   "source": [],
   "metadata": {
    "collapsed": false,
    "pycharm": {
     "is_executing": true
    }
   }
  }
 ],
 "metadata": {
  "kernelspec": {
   "display_name": "Python 3",
   "language": "python",
   "name": "python3"
  },
  "language_info": {
   "codemirror_mode": {
    "name": "ipython",
    "version": 2
   },
   "file_extension": ".py",
   "mimetype": "text/x-python",
   "name": "python",
   "nbconvert_exporter": "python",
   "pygments_lexer": "ipython2",
   "version": "2.7.6"
  }
 },
 "nbformat": 4,
 "nbformat_minor": 0
}
