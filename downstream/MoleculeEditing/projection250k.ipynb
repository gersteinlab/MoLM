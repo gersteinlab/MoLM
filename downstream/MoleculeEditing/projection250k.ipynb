{
 "cells": [
  {
   "cell_type": "code",
   "execution_count": 1,
   "metadata": {
    "collapsed": true
   },
   "outputs": [],
   "source": [
    "import csv\n",
    "\n",
    "smiles = []\n",
    "with open('zinc250k.csv', 'r') as csv_file:\n",
    "    reader = csv.DictReader(csv_file)\n",
    "    for row in reader:\n",
    "        smiles.append(row['smiles'])"
   ]
  },
  {
   "cell_type": "code",
   "execution_count": 2,
   "outputs": [],
   "source": [
    "with open('MoleculeSTM_editing_SMILES.txt', 'r') as file:\n",
    "    smiles.extend(file.readlines())"
   ],
   "metadata": {
    "collapsed": false
   }
  },
  {
   "cell_type": "code",
   "execution_count": 3,
   "outputs": [
    {
     "data": {
      "text/plain": "249655"
     },
     "execution_count": 3,
     "metadata": {},
     "output_type": "execute_result"
    }
   ],
   "source": [
    "len(smiles)"
   ],
   "metadata": {
    "collapsed": false
   }
  },
  {
   "cell_type": "code",
   "execution_count": 4,
   "outputs": [
    {
     "name": "stderr",
     "output_type": "stream",
     "text": [
      "2023-05-15 23:49:16 | INFO | rdkit | Enabling RDKit 2022.09.5 jupyter extensions\n"
     ]
    }
   ],
   "source": [
    "import sys\n",
    "import importlib\n",
    "\n",
    "sys.path.insert(0, '../graph-transformer')\n",
    "# sys.path.insert(0, '/data/code/Transformer-M')\n",
    "transformerm_models = importlib.import_module(\"Transformer_M.models\")\n",
    "TransformerM = transformerm_models.TransformerM\n",
    "data = importlib.import_module(\"Transformer_M.data\")\n",
    "preprocess_item = data.wrapper.preprocess_item\n",
    "collator_3d = data.collator_3d"
   ],
   "metadata": {
    "collapsed": false
   }
  },
  {
   "cell_type": "code",
   "execution_count": 5,
   "outputs": [
    {
     "name": "stdout",
     "output_type": "stream",
     "text": [
      "Start at Time: Mon May 15 23:49:19 2023\n",
      "loading hyperparamaters from results/zinc250k_512t2cnn_256gnn_512-64lin_10flow_19fold_convlu2_38af-1-1mask/moflow-params.json\n",
      "loading snapshot: results/zinc250k_512t2cnn_256gnn_512-64lin_10flow_19fold_convlu2_38af-1-1mask/model_snapshot_epoch_200\n",
      "Hyper-parameters:\n",
      "--------------------  ------------------------------------------------------------------------------------------------\n",
      "b_n_type              4\n",
      "b_n_flow              10\n",
      "b_n_block             1\n",
      "b_n_squeeze           19\n",
      "b_hidden_ch           [512, 512]\n",
      "b_affine              True\n",
      "b_conv_lu             2\n",
      "a_n_node              38\n",
      "a_n_type              10\n",
      "a_hidden_gnn          [256]\n",
      "a_hidden_lin          [512, 64]\n",
      "a_n_flow              38\n",
      "a_n_block             1\n",
      "mask_row_size_list    [1]\n",
      "mask_row_stride_list  [1]\n",
      "a_affine              True\n",
      "path                  results/zinc250k_512t2cnn_256gnn_512-64lin_10flow_19fold_convlu2_38af-1-1mask/moflow-params.json\n",
      "learn_dist            1\n",
      "seed                  1\n",
      "noise_scale           0.6\n",
      "--------------------  ------------------------------------------------------------------------------------------------\n",
      "model.ln_var: 1.12\n",
      "device = cuda:0\n"
     ]
    },
    {
     "data": {
      "text/plain": "MoFlow(\n  (bond_model): Glow(\n    (blocks): ModuleList(\n      (0): Block(\n        (flows): ModuleList(\n          (0): Flow(\n            (actnorm): ActNorm()\n            (coupling): AffineCoupling(\n              (layers): ModuleList(\n                (0): Conv2d(722, 512, kernel_size=(3, 3), stride=(1, 1), padding=(1, 1))\n                (1): Conv2d(512, 512, kernel_size=(3, 3), stride=(1, 1), padding=(1, 1))\n                (2): Conv2d(512, 1444, kernel_size=(3, 3), stride=(1, 1), padding=(1, 1))\n              )\n              (norms): ModuleList(\n                (0): BatchNorm2d(512, eps=1e-05, momentum=0.1, affine=True, track_running_stats=True)\n                (1): BatchNorm2d(512, eps=1e-05, momentum=0.1, affine=True, track_running_stats=True)\n                (2): BatchNorm2d(1444, eps=1e-05, momentum=0.1, affine=True, track_running_stats=True)\n              )\n            )\n          )\n          (1): Flow(\n            (actnorm): ActNorm()\n            (coupling): AffineCoupling(\n              (layers): ModuleList(\n                (0): Conv2d(722, 512, kernel_size=(3, 3), stride=(1, 1), padding=(1, 1))\n                (1): Conv2d(512, 512, kernel_size=(3, 3), stride=(1, 1), padding=(1, 1))\n                (2): Conv2d(512, 1444, kernel_size=(3, 3), stride=(1, 1), padding=(1, 1))\n              )\n              (norms): ModuleList(\n                (0): BatchNorm2d(512, eps=1e-05, momentum=0.1, affine=True, track_running_stats=True)\n                (1): BatchNorm2d(512, eps=1e-05, momentum=0.1, affine=True, track_running_stats=True)\n                (2): BatchNorm2d(1444, eps=1e-05, momentum=0.1, affine=True, track_running_stats=True)\n              )\n            )\n          )\n          (2): Flow(\n            (actnorm): ActNorm()\n            (coupling): AffineCoupling(\n              (layers): ModuleList(\n                (0): Conv2d(722, 512, kernel_size=(3, 3), stride=(1, 1), padding=(1, 1))\n                (1): Conv2d(512, 512, kernel_size=(3, 3), stride=(1, 1), padding=(1, 1))\n                (2): Conv2d(512, 1444, kernel_size=(3, 3), stride=(1, 1), padding=(1, 1))\n              )\n              (norms): ModuleList(\n                (0): BatchNorm2d(512, eps=1e-05, momentum=0.1, affine=True, track_running_stats=True)\n                (1): BatchNorm2d(512, eps=1e-05, momentum=0.1, affine=True, track_running_stats=True)\n                (2): BatchNorm2d(1444, eps=1e-05, momentum=0.1, affine=True, track_running_stats=True)\n              )\n            )\n          )\n          (3): Flow(\n            (actnorm): ActNorm()\n            (coupling): AffineCoupling(\n              (layers): ModuleList(\n                (0): Conv2d(722, 512, kernel_size=(3, 3), stride=(1, 1), padding=(1, 1))\n                (1): Conv2d(512, 512, kernel_size=(3, 3), stride=(1, 1), padding=(1, 1))\n                (2): Conv2d(512, 1444, kernel_size=(3, 3), stride=(1, 1), padding=(1, 1))\n              )\n              (norms): ModuleList(\n                (0): BatchNorm2d(512, eps=1e-05, momentum=0.1, affine=True, track_running_stats=True)\n                (1): BatchNorm2d(512, eps=1e-05, momentum=0.1, affine=True, track_running_stats=True)\n                (2): BatchNorm2d(1444, eps=1e-05, momentum=0.1, affine=True, track_running_stats=True)\n              )\n            )\n          )\n          (4): Flow(\n            (actnorm): ActNorm()\n            (coupling): AffineCoupling(\n              (layers): ModuleList(\n                (0): Conv2d(722, 512, kernel_size=(3, 3), stride=(1, 1), padding=(1, 1))\n                (1): Conv2d(512, 512, kernel_size=(3, 3), stride=(1, 1), padding=(1, 1))\n                (2): Conv2d(512, 1444, kernel_size=(3, 3), stride=(1, 1), padding=(1, 1))\n              )\n              (norms): ModuleList(\n                (0): BatchNorm2d(512, eps=1e-05, momentum=0.1, affine=True, track_running_stats=True)\n                (1): BatchNorm2d(512, eps=1e-05, momentum=0.1, affine=True, track_running_stats=True)\n                (2): BatchNorm2d(1444, eps=1e-05, momentum=0.1, affine=True, track_running_stats=True)\n              )\n            )\n          )\n          (5): Flow(\n            (actnorm): ActNorm()\n            (coupling): AffineCoupling(\n              (layers): ModuleList(\n                (0): Conv2d(722, 512, kernel_size=(3, 3), stride=(1, 1), padding=(1, 1))\n                (1): Conv2d(512, 512, kernel_size=(3, 3), stride=(1, 1), padding=(1, 1))\n                (2): Conv2d(512, 1444, kernel_size=(3, 3), stride=(1, 1), padding=(1, 1))\n              )\n              (norms): ModuleList(\n                (0): BatchNorm2d(512, eps=1e-05, momentum=0.1, affine=True, track_running_stats=True)\n                (1): BatchNorm2d(512, eps=1e-05, momentum=0.1, affine=True, track_running_stats=True)\n                (2): BatchNorm2d(1444, eps=1e-05, momentum=0.1, affine=True, track_running_stats=True)\n              )\n            )\n          )\n          (6): Flow(\n            (actnorm): ActNorm()\n            (coupling): AffineCoupling(\n              (layers): ModuleList(\n                (0): Conv2d(722, 512, kernel_size=(3, 3), stride=(1, 1), padding=(1, 1))\n                (1): Conv2d(512, 512, kernel_size=(3, 3), stride=(1, 1), padding=(1, 1))\n                (2): Conv2d(512, 1444, kernel_size=(3, 3), stride=(1, 1), padding=(1, 1))\n              )\n              (norms): ModuleList(\n                (0): BatchNorm2d(512, eps=1e-05, momentum=0.1, affine=True, track_running_stats=True)\n                (1): BatchNorm2d(512, eps=1e-05, momentum=0.1, affine=True, track_running_stats=True)\n                (2): BatchNorm2d(1444, eps=1e-05, momentum=0.1, affine=True, track_running_stats=True)\n              )\n            )\n          )\n          (7): Flow(\n            (actnorm): ActNorm()\n            (coupling): AffineCoupling(\n              (layers): ModuleList(\n                (0): Conv2d(722, 512, kernel_size=(3, 3), stride=(1, 1), padding=(1, 1))\n                (1): Conv2d(512, 512, kernel_size=(3, 3), stride=(1, 1), padding=(1, 1))\n                (2): Conv2d(512, 1444, kernel_size=(3, 3), stride=(1, 1), padding=(1, 1))\n              )\n              (norms): ModuleList(\n                (0): BatchNorm2d(512, eps=1e-05, momentum=0.1, affine=True, track_running_stats=True)\n                (1): BatchNorm2d(512, eps=1e-05, momentum=0.1, affine=True, track_running_stats=True)\n                (2): BatchNorm2d(1444, eps=1e-05, momentum=0.1, affine=True, track_running_stats=True)\n              )\n            )\n          )\n          (8): Flow(\n            (actnorm): ActNorm()\n            (coupling): AffineCoupling(\n              (layers): ModuleList(\n                (0): Conv2d(722, 512, kernel_size=(3, 3), stride=(1, 1), padding=(1, 1))\n                (1): Conv2d(512, 512, kernel_size=(3, 3), stride=(1, 1), padding=(1, 1))\n                (2): Conv2d(512, 1444, kernel_size=(3, 3), stride=(1, 1), padding=(1, 1))\n              )\n              (norms): ModuleList(\n                (0): BatchNorm2d(512, eps=1e-05, momentum=0.1, affine=True, track_running_stats=True)\n                (1): BatchNorm2d(512, eps=1e-05, momentum=0.1, affine=True, track_running_stats=True)\n                (2): BatchNorm2d(1444, eps=1e-05, momentum=0.1, affine=True, track_running_stats=True)\n              )\n            )\n          )\n          (9): Flow(\n            (actnorm): ActNorm()\n            (coupling): AffineCoupling(\n              (layers): ModuleList(\n                (0): Conv2d(722, 512, kernel_size=(3, 3), stride=(1, 1), padding=(1, 1))\n                (1): Conv2d(512, 512, kernel_size=(3, 3), stride=(1, 1), padding=(1, 1))\n                (2): Conv2d(512, 1444, kernel_size=(3, 3), stride=(1, 1), padding=(1, 1))\n              )\n              (norms): ModuleList(\n                (0): BatchNorm2d(512, eps=1e-05, momentum=0.1, affine=True, track_running_stats=True)\n                (1): BatchNorm2d(512, eps=1e-05, momentum=0.1, affine=True, track_running_stats=True)\n                (2): BatchNorm2d(1444, eps=1e-05, momentum=0.1, affine=True, track_running_stats=True)\n              )\n            )\n          )\n        )\n      )\n    )\n  )\n  (atom_model): GlowOnGraph(\n    (blocks): ModuleList(\n      (0): BlockOnGraph(\n        (flows): ModuleList(\n          (0): FlowOnGraph(\n            (actnorm): ActNorm2D()\n            (coupling): GraphAffineCoupling(\n              (net): ModuleList(\n                (0): GraphConv(\n                  (graph_linear_self): GraphLinear(\n                    (linear): Linear(in_features=10, out_features=256, bias=True)\n                  )\n                  (graph_linear_edge): GraphLinear(\n                    (linear): Linear(in_features=10, out_features=1024, bias=True)\n                  )\n                )\n              )\n              (norm): ModuleList(\n                (0): BatchNorm1d(38, eps=1e-05, momentum=0.1, affine=True, track_running_stats=True)\n              )\n              (net_lin): ModuleList(\n                (0): GraphLinear(\n                  (linear): Linear(in_features=256, out_features=512, bias=True)\n                )\n                (1): GraphLinear(\n                  (linear): Linear(in_features=512, out_features=64, bias=True)\n                )\n                (2): GraphLinear(\n                  (linear): Linear(in_features=64, out_features=20, bias=True)\n                )\n              )\n              (norm_lin): ModuleList(\n                (0): BatchNorm1d(38, eps=1e-05, momentum=0.1, affine=True, track_running_stats=True)\n                (1): BatchNorm1d(38, eps=1e-05, momentum=0.1, affine=True, track_running_stats=True)\n              )\n            )\n          )\n          (1): FlowOnGraph(\n            (actnorm): ActNorm2D()\n            (coupling): GraphAffineCoupling(\n              (net): ModuleList(\n                (0): GraphConv(\n                  (graph_linear_self): GraphLinear(\n                    (linear): Linear(in_features=10, out_features=256, bias=True)\n                  )\n                  (graph_linear_edge): GraphLinear(\n                    (linear): Linear(in_features=10, out_features=1024, bias=True)\n                  )\n                )\n              )\n              (norm): ModuleList(\n                (0): BatchNorm1d(38, eps=1e-05, momentum=0.1, affine=True, track_running_stats=True)\n              )\n              (net_lin): ModuleList(\n                (0): GraphLinear(\n                  (linear): Linear(in_features=256, out_features=512, bias=True)\n                )\n                (1): GraphLinear(\n                  (linear): Linear(in_features=512, out_features=64, bias=True)\n                )\n                (2): GraphLinear(\n                  (linear): Linear(in_features=64, out_features=20, bias=True)\n                )\n              )\n              (norm_lin): ModuleList(\n                (0): BatchNorm1d(38, eps=1e-05, momentum=0.1, affine=True, track_running_stats=True)\n                (1): BatchNorm1d(38, eps=1e-05, momentum=0.1, affine=True, track_running_stats=True)\n              )\n            )\n          )\n          (2): FlowOnGraph(\n            (actnorm): ActNorm2D()\n            (coupling): GraphAffineCoupling(\n              (net): ModuleList(\n                (0): GraphConv(\n                  (graph_linear_self): GraphLinear(\n                    (linear): Linear(in_features=10, out_features=256, bias=True)\n                  )\n                  (graph_linear_edge): GraphLinear(\n                    (linear): Linear(in_features=10, out_features=1024, bias=True)\n                  )\n                )\n              )\n              (norm): ModuleList(\n                (0): BatchNorm1d(38, eps=1e-05, momentum=0.1, affine=True, track_running_stats=True)\n              )\n              (net_lin): ModuleList(\n                (0): GraphLinear(\n                  (linear): Linear(in_features=256, out_features=512, bias=True)\n                )\n                (1): GraphLinear(\n                  (linear): Linear(in_features=512, out_features=64, bias=True)\n                )\n                (2): GraphLinear(\n                  (linear): Linear(in_features=64, out_features=20, bias=True)\n                )\n              )\n              (norm_lin): ModuleList(\n                (0): BatchNorm1d(38, eps=1e-05, momentum=0.1, affine=True, track_running_stats=True)\n                (1): BatchNorm1d(38, eps=1e-05, momentum=0.1, affine=True, track_running_stats=True)\n              )\n            )\n          )\n          (3): FlowOnGraph(\n            (actnorm): ActNorm2D()\n            (coupling): GraphAffineCoupling(\n              (net): ModuleList(\n                (0): GraphConv(\n                  (graph_linear_self): GraphLinear(\n                    (linear): Linear(in_features=10, out_features=256, bias=True)\n                  )\n                  (graph_linear_edge): GraphLinear(\n                    (linear): Linear(in_features=10, out_features=1024, bias=True)\n                  )\n                )\n              )\n              (norm): ModuleList(\n                (0): BatchNorm1d(38, eps=1e-05, momentum=0.1, affine=True, track_running_stats=True)\n              )\n              (net_lin): ModuleList(\n                (0): GraphLinear(\n                  (linear): Linear(in_features=256, out_features=512, bias=True)\n                )\n                (1): GraphLinear(\n                  (linear): Linear(in_features=512, out_features=64, bias=True)\n                )\n                (2): GraphLinear(\n                  (linear): Linear(in_features=64, out_features=20, bias=True)\n                )\n              )\n              (norm_lin): ModuleList(\n                (0): BatchNorm1d(38, eps=1e-05, momentum=0.1, affine=True, track_running_stats=True)\n                (1): BatchNorm1d(38, eps=1e-05, momentum=0.1, affine=True, track_running_stats=True)\n              )\n            )\n          )\n          (4): FlowOnGraph(\n            (actnorm): ActNorm2D()\n            (coupling): GraphAffineCoupling(\n              (net): ModuleList(\n                (0): GraphConv(\n                  (graph_linear_self): GraphLinear(\n                    (linear): Linear(in_features=10, out_features=256, bias=True)\n                  )\n                  (graph_linear_edge): GraphLinear(\n                    (linear): Linear(in_features=10, out_features=1024, bias=True)\n                  )\n                )\n              )\n              (norm): ModuleList(\n                (0): BatchNorm1d(38, eps=1e-05, momentum=0.1, affine=True, track_running_stats=True)\n              )\n              (net_lin): ModuleList(\n                (0): GraphLinear(\n                  (linear): Linear(in_features=256, out_features=512, bias=True)\n                )\n                (1): GraphLinear(\n                  (linear): Linear(in_features=512, out_features=64, bias=True)\n                )\n                (2): GraphLinear(\n                  (linear): Linear(in_features=64, out_features=20, bias=True)\n                )\n              )\n              (norm_lin): ModuleList(\n                (0): BatchNorm1d(38, eps=1e-05, momentum=0.1, affine=True, track_running_stats=True)\n                (1): BatchNorm1d(38, eps=1e-05, momentum=0.1, affine=True, track_running_stats=True)\n              )\n            )\n          )\n          (5): FlowOnGraph(\n            (actnorm): ActNorm2D()\n            (coupling): GraphAffineCoupling(\n              (net): ModuleList(\n                (0): GraphConv(\n                  (graph_linear_self): GraphLinear(\n                    (linear): Linear(in_features=10, out_features=256, bias=True)\n                  )\n                  (graph_linear_edge): GraphLinear(\n                    (linear): Linear(in_features=10, out_features=1024, bias=True)\n                  )\n                )\n              )\n              (norm): ModuleList(\n                (0): BatchNorm1d(38, eps=1e-05, momentum=0.1, affine=True, track_running_stats=True)\n              )\n              (net_lin): ModuleList(\n                (0): GraphLinear(\n                  (linear): Linear(in_features=256, out_features=512, bias=True)\n                )\n                (1): GraphLinear(\n                  (linear): Linear(in_features=512, out_features=64, bias=True)\n                )\n                (2): GraphLinear(\n                  (linear): Linear(in_features=64, out_features=20, bias=True)\n                )\n              )\n              (norm_lin): ModuleList(\n                (0): BatchNorm1d(38, eps=1e-05, momentum=0.1, affine=True, track_running_stats=True)\n                (1): BatchNorm1d(38, eps=1e-05, momentum=0.1, affine=True, track_running_stats=True)\n              )\n            )\n          )\n          (6): FlowOnGraph(\n            (actnorm): ActNorm2D()\n            (coupling): GraphAffineCoupling(\n              (net): ModuleList(\n                (0): GraphConv(\n                  (graph_linear_self): GraphLinear(\n                    (linear): Linear(in_features=10, out_features=256, bias=True)\n                  )\n                  (graph_linear_edge): GraphLinear(\n                    (linear): Linear(in_features=10, out_features=1024, bias=True)\n                  )\n                )\n              )\n              (norm): ModuleList(\n                (0): BatchNorm1d(38, eps=1e-05, momentum=0.1, affine=True, track_running_stats=True)\n              )\n              (net_lin): ModuleList(\n                (0): GraphLinear(\n                  (linear): Linear(in_features=256, out_features=512, bias=True)\n                )\n                (1): GraphLinear(\n                  (linear): Linear(in_features=512, out_features=64, bias=True)\n                )\n                (2): GraphLinear(\n                  (linear): Linear(in_features=64, out_features=20, bias=True)\n                )\n              )\n              (norm_lin): ModuleList(\n                (0): BatchNorm1d(38, eps=1e-05, momentum=0.1, affine=True, track_running_stats=True)\n                (1): BatchNorm1d(38, eps=1e-05, momentum=0.1, affine=True, track_running_stats=True)\n              )\n            )\n          )\n          (7): FlowOnGraph(\n            (actnorm): ActNorm2D()\n            (coupling): GraphAffineCoupling(\n              (net): ModuleList(\n                (0): GraphConv(\n                  (graph_linear_self): GraphLinear(\n                    (linear): Linear(in_features=10, out_features=256, bias=True)\n                  )\n                  (graph_linear_edge): GraphLinear(\n                    (linear): Linear(in_features=10, out_features=1024, bias=True)\n                  )\n                )\n              )\n              (norm): ModuleList(\n                (0): BatchNorm1d(38, eps=1e-05, momentum=0.1, affine=True, track_running_stats=True)\n              )\n              (net_lin): ModuleList(\n                (0): GraphLinear(\n                  (linear): Linear(in_features=256, out_features=512, bias=True)\n                )\n                (1): GraphLinear(\n                  (linear): Linear(in_features=512, out_features=64, bias=True)\n                )\n                (2): GraphLinear(\n                  (linear): Linear(in_features=64, out_features=20, bias=True)\n                )\n              )\n              (norm_lin): ModuleList(\n                (0): BatchNorm1d(38, eps=1e-05, momentum=0.1, affine=True, track_running_stats=True)\n                (1): BatchNorm1d(38, eps=1e-05, momentum=0.1, affine=True, track_running_stats=True)\n              )\n            )\n          )\n          (8): FlowOnGraph(\n            (actnorm): ActNorm2D()\n            (coupling): GraphAffineCoupling(\n              (net): ModuleList(\n                (0): GraphConv(\n                  (graph_linear_self): GraphLinear(\n                    (linear): Linear(in_features=10, out_features=256, bias=True)\n                  )\n                  (graph_linear_edge): GraphLinear(\n                    (linear): Linear(in_features=10, out_features=1024, bias=True)\n                  )\n                )\n              )\n              (norm): ModuleList(\n                (0): BatchNorm1d(38, eps=1e-05, momentum=0.1, affine=True, track_running_stats=True)\n              )\n              (net_lin): ModuleList(\n                (0): GraphLinear(\n                  (linear): Linear(in_features=256, out_features=512, bias=True)\n                )\n                (1): GraphLinear(\n                  (linear): Linear(in_features=512, out_features=64, bias=True)\n                )\n                (2): GraphLinear(\n                  (linear): Linear(in_features=64, out_features=20, bias=True)\n                )\n              )\n              (norm_lin): ModuleList(\n                (0): BatchNorm1d(38, eps=1e-05, momentum=0.1, affine=True, track_running_stats=True)\n                (1): BatchNorm1d(38, eps=1e-05, momentum=0.1, affine=True, track_running_stats=True)\n              )\n            )\n          )\n          (9): FlowOnGraph(\n            (actnorm): ActNorm2D()\n            (coupling): GraphAffineCoupling(\n              (net): ModuleList(\n                (0): GraphConv(\n                  (graph_linear_self): GraphLinear(\n                    (linear): Linear(in_features=10, out_features=256, bias=True)\n                  )\n                  (graph_linear_edge): GraphLinear(\n                    (linear): Linear(in_features=10, out_features=1024, bias=True)\n                  )\n                )\n              )\n              (norm): ModuleList(\n                (0): BatchNorm1d(38, eps=1e-05, momentum=0.1, affine=True, track_running_stats=True)\n              )\n              (net_lin): ModuleList(\n                (0): GraphLinear(\n                  (linear): Linear(in_features=256, out_features=512, bias=True)\n                )\n                (1): GraphLinear(\n                  (linear): Linear(in_features=512, out_features=64, bias=True)\n                )\n                (2): GraphLinear(\n                  (linear): Linear(in_features=64, out_features=20, bias=True)\n                )\n              )\n              (norm_lin): ModuleList(\n                (0): BatchNorm1d(38, eps=1e-05, momentum=0.1, affine=True, track_running_stats=True)\n                (1): BatchNorm1d(38, eps=1e-05, momentum=0.1, affine=True, track_running_stats=True)\n              )\n            )\n          )\n          (10): FlowOnGraph(\n            (actnorm): ActNorm2D()\n            (coupling): GraphAffineCoupling(\n              (net): ModuleList(\n                (0): GraphConv(\n                  (graph_linear_self): GraphLinear(\n                    (linear): Linear(in_features=10, out_features=256, bias=True)\n                  )\n                  (graph_linear_edge): GraphLinear(\n                    (linear): Linear(in_features=10, out_features=1024, bias=True)\n                  )\n                )\n              )\n              (norm): ModuleList(\n                (0): BatchNorm1d(38, eps=1e-05, momentum=0.1, affine=True, track_running_stats=True)\n              )\n              (net_lin): ModuleList(\n                (0): GraphLinear(\n                  (linear): Linear(in_features=256, out_features=512, bias=True)\n                )\n                (1): GraphLinear(\n                  (linear): Linear(in_features=512, out_features=64, bias=True)\n                )\n                (2): GraphLinear(\n                  (linear): Linear(in_features=64, out_features=20, bias=True)\n                )\n              )\n              (norm_lin): ModuleList(\n                (0): BatchNorm1d(38, eps=1e-05, momentum=0.1, affine=True, track_running_stats=True)\n                (1): BatchNorm1d(38, eps=1e-05, momentum=0.1, affine=True, track_running_stats=True)\n              )\n            )\n          )\n          (11): FlowOnGraph(\n            (actnorm): ActNorm2D()\n            (coupling): GraphAffineCoupling(\n              (net): ModuleList(\n                (0): GraphConv(\n                  (graph_linear_self): GraphLinear(\n                    (linear): Linear(in_features=10, out_features=256, bias=True)\n                  )\n                  (graph_linear_edge): GraphLinear(\n                    (linear): Linear(in_features=10, out_features=1024, bias=True)\n                  )\n                )\n              )\n              (norm): ModuleList(\n                (0): BatchNorm1d(38, eps=1e-05, momentum=0.1, affine=True, track_running_stats=True)\n              )\n              (net_lin): ModuleList(\n                (0): GraphLinear(\n                  (linear): Linear(in_features=256, out_features=512, bias=True)\n                )\n                (1): GraphLinear(\n                  (linear): Linear(in_features=512, out_features=64, bias=True)\n                )\n                (2): GraphLinear(\n                  (linear): Linear(in_features=64, out_features=20, bias=True)\n                )\n              )\n              (norm_lin): ModuleList(\n                (0): BatchNorm1d(38, eps=1e-05, momentum=0.1, affine=True, track_running_stats=True)\n                (1): BatchNorm1d(38, eps=1e-05, momentum=0.1, affine=True, track_running_stats=True)\n              )\n            )\n          )\n          (12): FlowOnGraph(\n            (actnorm): ActNorm2D()\n            (coupling): GraphAffineCoupling(\n              (net): ModuleList(\n                (0): GraphConv(\n                  (graph_linear_self): GraphLinear(\n                    (linear): Linear(in_features=10, out_features=256, bias=True)\n                  )\n                  (graph_linear_edge): GraphLinear(\n                    (linear): Linear(in_features=10, out_features=1024, bias=True)\n                  )\n                )\n              )\n              (norm): ModuleList(\n                (0): BatchNorm1d(38, eps=1e-05, momentum=0.1, affine=True, track_running_stats=True)\n              )\n              (net_lin): ModuleList(\n                (0): GraphLinear(\n                  (linear): Linear(in_features=256, out_features=512, bias=True)\n                )\n                (1): GraphLinear(\n                  (linear): Linear(in_features=512, out_features=64, bias=True)\n                )\n                (2): GraphLinear(\n                  (linear): Linear(in_features=64, out_features=20, bias=True)\n                )\n              )\n              (norm_lin): ModuleList(\n                (0): BatchNorm1d(38, eps=1e-05, momentum=0.1, affine=True, track_running_stats=True)\n                (1): BatchNorm1d(38, eps=1e-05, momentum=0.1, affine=True, track_running_stats=True)\n              )\n            )\n          )\n          (13): FlowOnGraph(\n            (actnorm): ActNorm2D()\n            (coupling): GraphAffineCoupling(\n              (net): ModuleList(\n                (0): GraphConv(\n                  (graph_linear_self): GraphLinear(\n                    (linear): Linear(in_features=10, out_features=256, bias=True)\n                  )\n                  (graph_linear_edge): GraphLinear(\n                    (linear): Linear(in_features=10, out_features=1024, bias=True)\n                  )\n                )\n              )\n              (norm): ModuleList(\n                (0): BatchNorm1d(38, eps=1e-05, momentum=0.1, affine=True, track_running_stats=True)\n              )\n              (net_lin): ModuleList(\n                (0): GraphLinear(\n                  (linear): Linear(in_features=256, out_features=512, bias=True)\n                )\n                (1): GraphLinear(\n                  (linear): Linear(in_features=512, out_features=64, bias=True)\n                )\n                (2): GraphLinear(\n                  (linear): Linear(in_features=64, out_features=20, bias=True)\n                )\n              )\n              (norm_lin): ModuleList(\n                (0): BatchNorm1d(38, eps=1e-05, momentum=0.1, affine=True, track_running_stats=True)\n                (1): BatchNorm1d(38, eps=1e-05, momentum=0.1, affine=True, track_running_stats=True)\n              )\n            )\n          )\n          (14): FlowOnGraph(\n            (actnorm): ActNorm2D()\n            (coupling): GraphAffineCoupling(\n              (net): ModuleList(\n                (0): GraphConv(\n                  (graph_linear_self): GraphLinear(\n                    (linear): Linear(in_features=10, out_features=256, bias=True)\n                  )\n                  (graph_linear_edge): GraphLinear(\n                    (linear): Linear(in_features=10, out_features=1024, bias=True)\n                  )\n                )\n              )\n              (norm): ModuleList(\n                (0): BatchNorm1d(38, eps=1e-05, momentum=0.1, affine=True, track_running_stats=True)\n              )\n              (net_lin): ModuleList(\n                (0): GraphLinear(\n                  (linear): Linear(in_features=256, out_features=512, bias=True)\n                )\n                (1): GraphLinear(\n                  (linear): Linear(in_features=512, out_features=64, bias=True)\n                )\n                (2): GraphLinear(\n                  (linear): Linear(in_features=64, out_features=20, bias=True)\n                )\n              )\n              (norm_lin): ModuleList(\n                (0): BatchNorm1d(38, eps=1e-05, momentum=0.1, affine=True, track_running_stats=True)\n                (1): BatchNorm1d(38, eps=1e-05, momentum=0.1, affine=True, track_running_stats=True)\n              )\n            )\n          )\n          (15): FlowOnGraph(\n            (actnorm): ActNorm2D()\n            (coupling): GraphAffineCoupling(\n              (net): ModuleList(\n                (0): GraphConv(\n                  (graph_linear_self): GraphLinear(\n                    (linear): Linear(in_features=10, out_features=256, bias=True)\n                  )\n                  (graph_linear_edge): GraphLinear(\n                    (linear): Linear(in_features=10, out_features=1024, bias=True)\n                  )\n                )\n              )\n              (norm): ModuleList(\n                (0): BatchNorm1d(38, eps=1e-05, momentum=0.1, affine=True, track_running_stats=True)\n              )\n              (net_lin): ModuleList(\n                (0): GraphLinear(\n                  (linear): Linear(in_features=256, out_features=512, bias=True)\n                )\n                (1): GraphLinear(\n                  (linear): Linear(in_features=512, out_features=64, bias=True)\n                )\n                (2): GraphLinear(\n                  (linear): Linear(in_features=64, out_features=20, bias=True)\n                )\n              )\n              (norm_lin): ModuleList(\n                (0): BatchNorm1d(38, eps=1e-05, momentum=0.1, affine=True, track_running_stats=True)\n                (1): BatchNorm1d(38, eps=1e-05, momentum=0.1, affine=True, track_running_stats=True)\n              )\n            )\n          )\n          (16): FlowOnGraph(\n            (actnorm): ActNorm2D()\n            (coupling): GraphAffineCoupling(\n              (net): ModuleList(\n                (0): GraphConv(\n                  (graph_linear_self): GraphLinear(\n                    (linear): Linear(in_features=10, out_features=256, bias=True)\n                  )\n                  (graph_linear_edge): GraphLinear(\n                    (linear): Linear(in_features=10, out_features=1024, bias=True)\n                  )\n                )\n              )\n              (norm): ModuleList(\n                (0): BatchNorm1d(38, eps=1e-05, momentum=0.1, affine=True, track_running_stats=True)\n              )\n              (net_lin): ModuleList(\n                (0): GraphLinear(\n                  (linear): Linear(in_features=256, out_features=512, bias=True)\n                )\n                (1): GraphLinear(\n                  (linear): Linear(in_features=512, out_features=64, bias=True)\n                )\n                (2): GraphLinear(\n                  (linear): Linear(in_features=64, out_features=20, bias=True)\n                )\n              )\n              (norm_lin): ModuleList(\n                (0): BatchNorm1d(38, eps=1e-05, momentum=0.1, affine=True, track_running_stats=True)\n                (1): BatchNorm1d(38, eps=1e-05, momentum=0.1, affine=True, track_running_stats=True)\n              )\n            )\n          )\n          (17): FlowOnGraph(\n            (actnorm): ActNorm2D()\n            (coupling): GraphAffineCoupling(\n              (net): ModuleList(\n                (0): GraphConv(\n                  (graph_linear_self): GraphLinear(\n                    (linear): Linear(in_features=10, out_features=256, bias=True)\n                  )\n                  (graph_linear_edge): GraphLinear(\n                    (linear): Linear(in_features=10, out_features=1024, bias=True)\n                  )\n                )\n              )\n              (norm): ModuleList(\n                (0): BatchNorm1d(38, eps=1e-05, momentum=0.1, affine=True, track_running_stats=True)\n              )\n              (net_lin): ModuleList(\n                (0): GraphLinear(\n                  (linear): Linear(in_features=256, out_features=512, bias=True)\n                )\n                (1): GraphLinear(\n                  (linear): Linear(in_features=512, out_features=64, bias=True)\n                )\n                (2): GraphLinear(\n                  (linear): Linear(in_features=64, out_features=20, bias=True)\n                )\n              )\n              (norm_lin): ModuleList(\n                (0): BatchNorm1d(38, eps=1e-05, momentum=0.1, affine=True, track_running_stats=True)\n                (1): BatchNorm1d(38, eps=1e-05, momentum=0.1, affine=True, track_running_stats=True)\n              )\n            )\n          )\n          (18): FlowOnGraph(\n            (actnorm): ActNorm2D()\n            (coupling): GraphAffineCoupling(\n              (net): ModuleList(\n                (0): GraphConv(\n                  (graph_linear_self): GraphLinear(\n                    (linear): Linear(in_features=10, out_features=256, bias=True)\n                  )\n                  (graph_linear_edge): GraphLinear(\n                    (linear): Linear(in_features=10, out_features=1024, bias=True)\n                  )\n                )\n              )\n              (norm): ModuleList(\n                (0): BatchNorm1d(38, eps=1e-05, momentum=0.1, affine=True, track_running_stats=True)\n              )\n              (net_lin): ModuleList(\n                (0): GraphLinear(\n                  (linear): Linear(in_features=256, out_features=512, bias=True)\n                )\n                (1): GraphLinear(\n                  (linear): Linear(in_features=512, out_features=64, bias=True)\n                )\n                (2): GraphLinear(\n                  (linear): Linear(in_features=64, out_features=20, bias=True)\n                )\n              )\n              (norm_lin): ModuleList(\n                (0): BatchNorm1d(38, eps=1e-05, momentum=0.1, affine=True, track_running_stats=True)\n                (1): BatchNorm1d(38, eps=1e-05, momentum=0.1, affine=True, track_running_stats=True)\n              )\n            )\n          )\n          (19): FlowOnGraph(\n            (actnorm): ActNorm2D()\n            (coupling): GraphAffineCoupling(\n              (net): ModuleList(\n                (0): GraphConv(\n                  (graph_linear_self): GraphLinear(\n                    (linear): Linear(in_features=10, out_features=256, bias=True)\n                  )\n                  (graph_linear_edge): GraphLinear(\n                    (linear): Linear(in_features=10, out_features=1024, bias=True)\n                  )\n                )\n              )\n              (norm): ModuleList(\n                (0): BatchNorm1d(38, eps=1e-05, momentum=0.1, affine=True, track_running_stats=True)\n              )\n              (net_lin): ModuleList(\n                (0): GraphLinear(\n                  (linear): Linear(in_features=256, out_features=512, bias=True)\n                )\n                (1): GraphLinear(\n                  (linear): Linear(in_features=512, out_features=64, bias=True)\n                )\n                (2): GraphLinear(\n                  (linear): Linear(in_features=64, out_features=20, bias=True)\n                )\n              )\n              (norm_lin): ModuleList(\n                (0): BatchNorm1d(38, eps=1e-05, momentum=0.1, affine=True, track_running_stats=True)\n                (1): BatchNorm1d(38, eps=1e-05, momentum=0.1, affine=True, track_running_stats=True)\n              )\n            )\n          )\n          (20): FlowOnGraph(\n            (actnorm): ActNorm2D()\n            (coupling): GraphAffineCoupling(\n              (net): ModuleList(\n                (0): GraphConv(\n                  (graph_linear_self): GraphLinear(\n                    (linear): Linear(in_features=10, out_features=256, bias=True)\n                  )\n                  (graph_linear_edge): GraphLinear(\n                    (linear): Linear(in_features=10, out_features=1024, bias=True)\n                  )\n                )\n              )\n              (norm): ModuleList(\n                (0): BatchNorm1d(38, eps=1e-05, momentum=0.1, affine=True, track_running_stats=True)\n              )\n              (net_lin): ModuleList(\n                (0): GraphLinear(\n                  (linear): Linear(in_features=256, out_features=512, bias=True)\n                )\n                (1): GraphLinear(\n                  (linear): Linear(in_features=512, out_features=64, bias=True)\n                )\n                (2): GraphLinear(\n                  (linear): Linear(in_features=64, out_features=20, bias=True)\n                )\n              )\n              (norm_lin): ModuleList(\n                (0): BatchNorm1d(38, eps=1e-05, momentum=0.1, affine=True, track_running_stats=True)\n                (1): BatchNorm1d(38, eps=1e-05, momentum=0.1, affine=True, track_running_stats=True)\n              )\n            )\n          )\n          (21): FlowOnGraph(\n            (actnorm): ActNorm2D()\n            (coupling): GraphAffineCoupling(\n              (net): ModuleList(\n                (0): GraphConv(\n                  (graph_linear_self): GraphLinear(\n                    (linear): Linear(in_features=10, out_features=256, bias=True)\n                  )\n                  (graph_linear_edge): GraphLinear(\n                    (linear): Linear(in_features=10, out_features=1024, bias=True)\n                  )\n                )\n              )\n              (norm): ModuleList(\n                (0): BatchNorm1d(38, eps=1e-05, momentum=0.1, affine=True, track_running_stats=True)\n              )\n              (net_lin): ModuleList(\n                (0): GraphLinear(\n                  (linear): Linear(in_features=256, out_features=512, bias=True)\n                )\n                (1): GraphLinear(\n                  (linear): Linear(in_features=512, out_features=64, bias=True)\n                )\n                (2): GraphLinear(\n                  (linear): Linear(in_features=64, out_features=20, bias=True)\n                )\n              )\n              (norm_lin): ModuleList(\n                (0): BatchNorm1d(38, eps=1e-05, momentum=0.1, affine=True, track_running_stats=True)\n                (1): BatchNorm1d(38, eps=1e-05, momentum=0.1, affine=True, track_running_stats=True)\n              )\n            )\n          )\n          (22): FlowOnGraph(\n            (actnorm): ActNorm2D()\n            (coupling): GraphAffineCoupling(\n              (net): ModuleList(\n                (0): GraphConv(\n                  (graph_linear_self): GraphLinear(\n                    (linear): Linear(in_features=10, out_features=256, bias=True)\n                  )\n                  (graph_linear_edge): GraphLinear(\n                    (linear): Linear(in_features=10, out_features=1024, bias=True)\n                  )\n                )\n              )\n              (norm): ModuleList(\n                (0): BatchNorm1d(38, eps=1e-05, momentum=0.1, affine=True, track_running_stats=True)\n              )\n              (net_lin): ModuleList(\n                (0): GraphLinear(\n                  (linear): Linear(in_features=256, out_features=512, bias=True)\n                )\n                (1): GraphLinear(\n                  (linear): Linear(in_features=512, out_features=64, bias=True)\n                )\n                (2): GraphLinear(\n                  (linear): Linear(in_features=64, out_features=20, bias=True)\n                )\n              )\n              (norm_lin): ModuleList(\n                (0): BatchNorm1d(38, eps=1e-05, momentum=0.1, affine=True, track_running_stats=True)\n                (1): BatchNorm1d(38, eps=1e-05, momentum=0.1, affine=True, track_running_stats=True)\n              )\n            )\n          )\n          (23): FlowOnGraph(\n            (actnorm): ActNorm2D()\n            (coupling): GraphAffineCoupling(\n              (net): ModuleList(\n                (0): GraphConv(\n                  (graph_linear_self): GraphLinear(\n                    (linear): Linear(in_features=10, out_features=256, bias=True)\n                  )\n                  (graph_linear_edge): GraphLinear(\n                    (linear): Linear(in_features=10, out_features=1024, bias=True)\n                  )\n                )\n              )\n              (norm): ModuleList(\n                (0): BatchNorm1d(38, eps=1e-05, momentum=0.1, affine=True, track_running_stats=True)\n              )\n              (net_lin): ModuleList(\n                (0): GraphLinear(\n                  (linear): Linear(in_features=256, out_features=512, bias=True)\n                )\n                (1): GraphLinear(\n                  (linear): Linear(in_features=512, out_features=64, bias=True)\n                )\n                (2): GraphLinear(\n                  (linear): Linear(in_features=64, out_features=20, bias=True)\n                )\n              )\n              (norm_lin): ModuleList(\n                (0): BatchNorm1d(38, eps=1e-05, momentum=0.1, affine=True, track_running_stats=True)\n                (1): BatchNorm1d(38, eps=1e-05, momentum=0.1, affine=True, track_running_stats=True)\n              )\n            )\n          )\n          (24): FlowOnGraph(\n            (actnorm): ActNorm2D()\n            (coupling): GraphAffineCoupling(\n              (net): ModuleList(\n                (0): GraphConv(\n                  (graph_linear_self): GraphLinear(\n                    (linear): Linear(in_features=10, out_features=256, bias=True)\n                  )\n                  (graph_linear_edge): GraphLinear(\n                    (linear): Linear(in_features=10, out_features=1024, bias=True)\n                  )\n                )\n              )\n              (norm): ModuleList(\n                (0): BatchNorm1d(38, eps=1e-05, momentum=0.1, affine=True, track_running_stats=True)\n              )\n              (net_lin): ModuleList(\n                (0): GraphLinear(\n                  (linear): Linear(in_features=256, out_features=512, bias=True)\n                )\n                (1): GraphLinear(\n                  (linear): Linear(in_features=512, out_features=64, bias=True)\n                )\n                (2): GraphLinear(\n                  (linear): Linear(in_features=64, out_features=20, bias=True)\n                )\n              )\n              (norm_lin): ModuleList(\n                (0): BatchNorm1d(38, eps=1e-05, momentum=0.1, affine=True, track_running_stats=True)\n                (1): BatchNorm1d(38, eps=1e-05, momentum=0.1, affine=True, track_running_stats=True)\n              )\n            )\n          )\n          (25): FlowOnGraph(\n            (actnorm): ActNorm2D()\n            (coupling): GraphAffineCoupling(\n              (net): ModuleList(\n                (0): GraphConv(\n                  (graph_linear_self): GraphLinear(\n                    (linear): Linear(in_features=10, out_features=256, bias=True)\n                  )\n                  (graph_linear_edge): GraphLinear(\n                    (linear): Linear(in_features=10, out_features=1024, bias=True)\n                  )\n                )\n              )\n              (norm): ModuleList(\n                (0): BatchNorm1d(38, eps=1e-05, momentum=0.1, affine=True, track_running_stats=True)\n              )\n              (net_lin): ModuleList(\n                (0): GraphLinear(\n                  (linear): Linear(in_features=256, out_features=512, bias=True)\n                )\n                (1): GraphLinear(\n                  (linear): Linear(in_features=512, out_features=64, bias=True)\n                )\n                (2): GraphLinear(\n                  (linear): Linear(in_features=64, out_features=20, bias=True)\n                )\n              )\n              (norm_lin): ModuleList(\n                (0): BatchNorm1d(38, eps=1e-05, momentum=0.1, affine=True, track_running_stats=True)\n                (1): BatchNorm1d(38, eps=1e-05, momentum=0.1, affine=True, track_running_stats=True)\n              )\n            )\n          )\n          (26): FlowOnGraph(\n            (actnorm): ActNorm2D()\n            (coupling): GraphAffineCoupling(\n              (net): ModuleList(\n                (0): GraphConv(\n                  (graph_linear_self): GraphLinear(\n                    (linear): Linear(in_features=10, out_features=256, bias=True)\n                  )\n                  (graph_linear_edge): GraphLinear(\n                    (linear): Linear(in_features=10, out_features=1024, bias=True)\n                  )\n                )\n              )\n              (norm): ModuleList(\n                (0): BatchNorm1d(38, eps=1e-05, momentum=0.1, affine=True, track_running_stats=True)\n              )\n              (net_lin): ModuleList(\n                (0): GraphLinear(\n                  (linear): Linear(in_features=256, out_features=512, bias=True)\n                )\n                (1): GraphLinear(\n                  (linear): Linear(in_features=512, out_features=64, bias=True)\n                )\n                (2): GraphLinear(\n                  (linear): Linear(in_features=64, out_features=20, bias=True)\n                )\n              )\n              (norm_lin): ModuleList(\n                (0): BatchNorm1d(38, eps=1e-05, momentum=0.1, affine=True, track_running_stats=True)\n                (1): BatchNorm1d(38, eps=1e-05, momentum=0.1, affine=True, track_running_stats=True)\n              )\n            )\n          )\n          (27): FlowOnGraph(\n            (actnorm): ActNorm2D()\n            (coupling): GraphAffineCoupling(\n              (net): ModuleList(\n                (0): GraphConv(\n                  (graph_linear_self): GraphLinear(\n                    (linear): Linear(in_features=10, out_features=256, bias=True)\n                  )\n                  (graph_linear_edge): GraphLinear(\n                    (linear): Linear(in_features=10, out_features=1024, bias=True)\n                  )\n                )\n              )\n              (norm): ModuleList(\n                (0): BatchNorm1d(38, eps=1e-05, momentum=0.1, affine=True, track_running_stats=True)\n              )\n              (net_lin): ModuleList(\n                (0): GraphLinear(\n                  (linear): Linear(in_features=256, out_features=512, bias=True)\n                )\n                (1): GraphLinear(\n                  (linear): Linear(in_features=512, out_features=64, bias=True)\n                )\n                (2): GraphLinear(\n                  (linear): Linear(in_features=64, out_features=20, bias=True)\n                )\n              )\n              (norm_lin): ModuleList(\n                (0): BatchNorm1d(38, eps=1e-05, momentum=0.1, affine=True, track_running_stats=True)\n                (1): BatchNorm1d(38, eps=1e-05, momentum=0.1, affine=True, track_running_stats=True)\n              )\n            )\n          )\n          (28): FlowOnGraph(\n            (actnorm): ActNorm2D()\n            (coupling): GraphAffineCoupling(\n              (net): ModuleList(\n                (0): GraphConv(\n                  (graph_linear_self): GraphLinear(\n                    (linear): Linear(in_features=10, out_features=256, bias=True)\n                  )\n                  (graph_linear_edge): GraphLinear(\n                    (linear): Linear(in_features=10, out_features=1024, bias=True)\n                  )\n                )\n              )\n              (norm): ModuleList(\n                (0): BatchNorm1d(38, eps=1e-05, momentum=0.1, affine=True, track_running_stats=True)\n              )\n              (net_lin): ModuleList(\n                (0): GraphLinear(\n                  (linear): Linear(in_features=256, out_features=512, bias=True)\n                )\n                (1): GraphLinear(\n                  (linear): Linear(in_features=512, out_features=64, bias=True)\n                )\n                (2): GraphLinear(\n                  (linear): Linear(in_features=64, out_features=20, bias=True)\n                )\n              )\n              (norm_lin): ModuleList(\n                (0): BatchNorm1d(38, eps=1e-05, momentum=0.1, affine=True, track_running_stats=True)\n                (1): BatchNorm1d(38, eps=1e-05, momentum=0.1, affine=True, track_running_stats=True)\n              )\n            )\n          )\n          (29): FlowOnGraph(\n            (actnorm): ActNorm2D()\n            (coupling): GraphAffineCoupling(\n              (net): ModuleList(\n                (0): GraphConv(\n                  (graph_linear_self): GraphLinear(\n                    (linear): Linear(in_features=10, out_features=256, bias=True)\n                  )\n                  (graph_linear_edge): GraphLinear(\n                    (linear): Linear(in_features=10, out_features=1024, bias=True)\n                  )\n                )\n              )\n              (norm): ModuleList(\n                (0): BatchNorm1d(38, eps=1e-05, momentum=0.1, affine=True, track_running_stats=True)\n              )\n              (net_lin): ModuleList(\n                (0): GraphLinear(\n                  (linear): Linear(in_features=256, out_features=512, bias=True)\n                )\n                (1): GraphLinear(\n                  (linear): Linear(in_features=512, out_features=64, bias=True)\n                )\n                (2): GraphLinear(\n                  (linear): Linear(in_features=64, out_features=20, bias=True)\n                )\n              )\n              (norm_lin): ModuleList(\n                (0): BatchNorm1d(38, eps=1e-05, momentum=0.1, affine=True, track_running_stats=True)\n                (1): BatchNorm1d(38, eps=1e-05, momentum=0.1, affine=True, track_running_stats=True)\n              )\n            )\n          )\n          (30): FlowOnGraph(\n            (actnorm): ActNorm2D()\n            (coupling): GraphAffineCoupling(\n              (net): ModuleList(\n                (0): GraphConv(\n                  (graph_linear_self): GraphLinear(\n                    (linear): Linear(in_features=10, out_features=256, bias=True)\n                  )\n                  (graph_linear_edge): GraphLinear(\n                    (linear): Linear(in_features=10, out_features=1024, bias=True)\n                  )\n                )\n              )\n              (norm): ModuleList(\n                (0): BatchNorm1d(38, eps=1e-05, momentum=0.1, affine=True, track_running_stats=True)\n              )\n              (net_lin): ModuleList(\n                (0): GraphLinear(\n                  (linear): Linear(in_features=256, out_features=512, bias=True)\n                )\n                (1): GraphLinear(\n                  (linear): Linear(in_features=512, out_features=64, bias=True)\n                )\n                (2): GraphLinear(\n                  (linear): Linear(in_features=64, out_features=20, bias=True)\n                )\n              )\n              (norm_lin): ModuleList(\n                (0): BatchNorm1d(38, eps=1e-05, momentum=0.1, affine=True, track_running_stats=True)\n                (1): BatchNorm1d(38, eps=1e-05, momentum=0.1, affine=True, track_running_stats=True)\n              )\n            )\n          )\n          (31): FlowOnGraph(\n            (actnorm): ActNorm2D()\n            (coupling): GraphAffineCoupling(\n              (net): ModuleList(\n                (0): GraphConv(\n                  (graph_linear_self): GraphLinear(\n                    (linear): Linear(in_features=10, out_features=256, bias=True)\n                  )\n                  (graph_linear_edge): GraphLinear(\n                    (linear): Linear(in_features=10, out_features=1024, bias=True)\n                  )\n                )\n              )\n              (norm): ModuleList(\n                (0): BatchNorm1d(38, eps=1e-05, momentum=0.1, affine=True, track_running_stats=True)\n              )\n              (net_lin): ModuleList(\n                (0): GraphLinear(\n                  (linear): Linear(in_features=256, out_features=512, bias=True)\n                )\n                (1): GraphLinear(\n                  (linear): Linear(in_features=512, out_features=64, bias=True)\n                )\n                (2): GraphLinear(\n                  (linear): Linear(in_features=64, out_features=20, bias=True)\n                )\n              )\n              (norm_lin): ModuleList(\n                (0): BatchNorm1d(38, eps=1e-05, momentum=0.1, affine=True, track_running_stats=True)\n                (1): BatchNorm1d(38, eps=1e-05, momentum=0.1, affine=True, track_running_stats=True)\n              )\n            )\n          )\n          (32): FlowOnGraph(\n            (actnorm): ActNorm2D()\n            (coupling): GraphAffineCoupling(\n              (net): ModuleList(\n                (0): GraphConv(\n                  (graph_linear_self): GraphLinear(\n                    (linear): Linear(in_features=10, out_features=256, bias=True)\n                  )\n                  (graph_linear_edge): GraphLinear(\n                    (linear): Linear(in_features=10, out_features=1024, bias=True)\n                  )\n                )\n              )\n              (norm): ModuleList(\n                (0): BatchNorm1d(38, eps=1e-05, momentum=0.1, affine=True, track_running_stats=True)\n              )\n              (net_lin): ModuleList(\n                (0): GraphLinear(\n                  (linear): Linear(in_features=256, out_features=512, bias=True)\n                )\n                (1): GraphLinear(\n                  (linear): Linear(in_features=512, out_features=64, bias=True)\n                )\n                (2): GraphLinear(\n                  (linear): Linear(in_features=64, out_features=20, bias=True)\n                )\n              )\n              (norm_lin): ModuleList(\n                (0): BatchNorm1d(38, eps=1e-05, momentum=0.1, affine=True, track_running_stats=True)\n                (1): BatchNorm1d(38, eps=1e-05, momentum=0.1, affine=True, track_running_stats=True)\n              )\n            )\n          )\n          (33): FlowOnGraph(\n            (actnorm): ActNorm2D()\n            (coupling): GraphAffineCoupling(\n              (net): ModuleList(\n                (0): GraphConv(\n                  (graph_linear_self): GraphLinear(\n                    (linear): Linear(in_features=10, out_features=256, bias=True)\n                  )\n                  (graph_linear_edge): GraphLinear(\n                    (linear): Linear(in_features=10, out_features=1024, bias=True)\n                  )\n                )\n              )\n              (norm): ModuleList(\n                (0): BatchNorm1d(38, eps=1e-05, momentum=0.1, affine=True, track_running_stats=True)\n              )\n              (net_lin): ModuleList(\n                (0): GraphLinear(\n                  (linear): Linear(in_features=256, out_features=512, bias=True)\n                )\n                (1): GraphLinear(\n                  (linear): Linear(in_features=512, out_features=64, bias=True)\n                )\n                (2): GraphLinear(\n                  (linear): Linear(in_features=64, out_features=20, bias=True)\n                )\n              )\n              (norm_lin): ModuleList(\n                (0): BatchNorm1d(38, eps=1e-05, momentum=0.1, affine=True, track_running_stats=True)\n                (1): BatchNorm1d(38, eps=1e-05, momentum=0.1, affine=True, track_running_stats=True)\n              )\n            )\n          )\n          (34): FlowOnGraph(\n            (actnorm): ActNorm2D()\n            (coupling): GraphAffineCoupling(\n              (net): ModuleList(\n                (0): GraphConv(\n                  (graph_linear_self): GraphLinear(\n                    (linear): Linear(in_features=10, out_features=256, bias=True)\n                  )\n                  (graph_linear_edge): GraphLinear(\n                    (linear): Linear(in_features=10, out_features=1024, bias=True)\n                  )\n                )\n              )\n              (norm): ModuleList(\n                (0): BatchNorm1d(38, eps=1e-05, momentum=0.1, affine=True, track_running_stats=True)\n              )\n              (net_lin): ModuleList(\n                (0): GraphLinear(\n                  (linear): Linear(in_features=256, out_features=512, bias=True)\n                )\n                (1): GraphLinear(\n                  (linear): Linear(in_features=512, out_features=64, bias=True)\n                )\n                (2): GraphLinear(\n                  (linear): Linear(in_features=64, out_features=20, bias=True)\n                )\n              )\n              (norm_lin): ModuleList(\n                (0): BatchNorm1d(38, eps=1e-05, momentum=0.1, affine=True, track_running_stats=True)\n                (1): BatchNorm1d(38, eps=1e-05, momentum=0.1, affine=True, track_running_stats=True)\n              )\n            )\n          )\n          (35): FlowOnGraph(\n            (actnorm): ActNorm2D()\n            (coupling): GraphAffineCoupling(\n              (net): ModuleList(\n                (0): GraphConv(\n                  (graph_linear_self): GraphLinear(\n                    (linear): Linear(in_features=10, out_features=256, bias=True)\n                  )\n                  (graph_linear_edge): GraphLinear(\n                    (linear): Linear(in_features=10, out_features=1024, bias=True)\n                  )\n                )\n              )\n              (norm): ModuleList(\n                (0): BatchNorm1d(38, eps=1e-05, momentum=0.1, affine=True, track_running_stats=True)\n              )\n              (net_lin): ModuleList(\n                (0): GraphLinear(\n                  (linear): Linear(in_features=256, out_features=512, bias=True)\n                )\n                (1): GraphLinear(\n                  (linear): Linear(in_features=512, out_features=64, bias=True)\n                )\n                (2): GraphLinear(\n                  (linear): Linear(in_features=64, out_features=20, bias=True)\n                )\n              )\n              (norm_lin): ModuleList(\n                (0): BatchNorm1d(38, eps=1e-05, momentum=0.1, affine=True, track_running_stats=True)\n                (1): BatchNorm1d(38, eps=1e-05, momentum=0.1, affine=True, track_running_stats=True)\n              )\n            )\n          )\n          (36): FlowOnGraph(\n            (actnorm): ActNorm2D()\n            (coupling): GraphAffineCoupling(\n              (net): ModuleList(\n                (0): GraphConv(\n                  (graph_linear_self): GraphLinear(\n                    (linear): Linear(in_features=10, out_features=256, bias=True)\n                  )\n                  (graph_linear_edge): GraphLinear(\n                    (linear): Linear(in_features=10, out_features=1024, bias=True)\n                  )\n                )\n              )\n              (norm): ModuleList(\n                (0): BatchNorm1d(38, eps=1e-05, momentum=0.1, affine=True, track_running_stats=True)\n              )\n              (net_lin): ModuleList(\n                (0): GraphLinear(\n                  (linear): Linear(in_features=256, out_features=512, bias=True)\n                )\n                (1): GraphLinear(\n                  (linear): Linear(in_features=512, out_features=64, bias=True)\n                )\n                (2): GraphLinear(\n                  (linear): Linear(in_features=64, out_features=20, bias=True)\n                )\n              )\n              (norm_lin): ModuleList(\n                (0): BatchNorm1d(38, eps=1e-05, momentum=0.1, affine=True, track_running_stats=True)\n                (1): BatchNorm1d(38, eps=1e-05, momentum=0.1, affine=True, track_running_stats=True)\n              )\n            )\n          )\n          (37): FlowOnGraph(\n            (actnorm): ActNorm2D()\n            (coupling): GraphAffineCoupling(\n              (net): ModuleList(\n                (0): GraphConv(\n                  (graph_linear_self): GraphLinear(\n                    (linear): Linear(in_features=10, out_features=256, bias=True)\n                  )\n                  (graph_linear_edge): GraphLinear(\n                    (linear): Linear(in_features=10, out_features=1024, bias=True)\n                  )\n                )\n              )\n              (norm): ModuleList(\n                (0): BatchNorm1d(38, eps=1e-05, momentum=0.1, affine=True, track_running_stats=True)\n              )\n              (net_lin): ModuleList(\n                (0): GraphLinear(\n                  (linear): Linear(in_features=256, out_features=512, bias=True)\n                )\n                (1): GraphLinear(\n                  (linear): Linear(in_features=512, out_features=64, bias=True)\n                )\n                (2): GraphLinear(\n                  (linear): Linear(in_features=64, out_features=20, bias=True)\n                )\n              )\n              (norm_lin): ModuleList(\n                (0): BatchNorm1d(38, eps=1e-05, momentum=0.1, affine=True, track_running_stats=True)\n                (1): BatchNorm1d(38, eps=1e-05, momentum=0.1, affine=True, track_running_stats=True)\n              )\n            )\n          )\n        )\n      )\n    )\n  )\n)"
     },
     "execution_count": 5,
     "metadata": {},
     "output_type": "execute_result"
    }
   ],
   "source": [
    "import os\n",
    "import time\n",
    "import argparse\n",
    "from distutils.util import strtobool\n",
    "from mflow.models.hyperparams import Hyperparameters\n",
    "from mflow.utils.model_utils import load_model, get_latent_vec\n",
    "import torch\n",
    "\n",
    "parser = argparse.ArgumentParser()\n",
    "parser.add_argument(\"--input_text\", type=str, default='This molecule is beautiful.')\n",
    "parser.add_argument(\"--checkpoint_name\", type=str, default='littlegin=graphclinit_bert=scibert_epoch=299-step=18300.ckpt')\n",
    "parser.add_argument(\"--model_dir\", type=str, default='./results')\n",
    "parser.add_argument(\"--data_dir\", type=str, default='../data')\n",
    "parser.add_argument('--data_name', type=str, default='qm9', choices=['qm9', 'zinc250k'], help='dataset name')\n",
    "# parser.add_argument('--molecule_file', type=str, default='qm9_relgcn_kekulized_ggnp.npz',\n",
    "#                     help='path to molecule dataset')\n",
    "parser.add_argument(\"--snapshot-path\", \"-snapshot\", type=str, required=True)\n",
    "parser.add_argument(\"--hyperparams-path\", type=str, default='moflow-params.json', required=True)\n",
    "parser.add_argument(\"--gpu\", type=int, default=-1)\n",
    "parser.add_argument(\"--batch-size\", type=int, default=100)\n",
    "parser.add_argument('--additive_transformations', type=strtobool, default='false',\n",
    "                    help='apply only additive coupling layers')\n",
    "parser.add_argument('--delta', type=float, default=0.1)\n",
    "parser.add_argument('--n_experiments', type=int, default=1, help='number of times generation to be run')\n",
    "parser.add_argument('--seed', type=int, default=123)\n",
    "parser.add_argument('--debug', action='store_true', default=False)\n",
    "parser.add_argument('--temperature', type=float, default=1.0,\n",
    "                    help='temperature of the gaussian distribution')\n",
    "# parser.add_argument('--draw_neighborhood', type=strtobool, default='true',\n",
    "#                     help='if neighborhood of a molecule to be visualized')\n",
    "\n",
    "parser.add_argument('--save_fig', type=strtobool, default='true')\n",
    "parser.add_argument('--save_score', type=strtobool, default='true')\n",
    "parser.add_argument('-r', '--reconstruct', action='store_true', default=False)\n",
    "# parser.add_argument('-i', '--interpolation', action='store_true', default=False)\n",
    "parser.add_argument('--int2point', action='store_true', default=False)\n",
    "parser.add_argument('--intgrid', action='store_true', default=False)\n",
    "\n",
    "parser.add_argument('--inter_times', type=int, default=5)\n",
    "\n",
    "parser.add_argument('--correct_validity', type=strtobool, default='true',\n",
    "                    help='if apply validity correction after the generation')\n",
    "args = parser.parse_args(\"--model_dir results/zinc250k_512t2cnn_256gnn_512-64lin_10flow_19fold_convlu2_38af-1-1mask -snapshot model_snapshot_epoch_200 --gpu 0 --data_name zinc250k --hyperparams-path moflow-params.json --temperature 0.85 --batch-size 1 --n_experiments 5\".split(\" \"))\n",
    "\n",
    "start = time.time()\n",
    "print(\"Start at Time: {}\".format(time.ctime()))\n",
    "# chainer.config.train = False\n",
    "snapshot_path = os.path.join(args.model_dir, args.snapshot_path)\n",
    "hyperparams_path = os.path.join(args.model_dir, args.hyperparams_path)\n",
    "print(\"loading hyperparamaters from {}\".format(hyperparams_path))\n",
    "model_params = Hyperparameters(path=hyperparams_path)\n",
    "model = load_model(snapshot_path, model_params, debug=True)\n",
    "if len(model.ln_var) == 1:\n",
    "    print('model.ln_var: {:.2f}'.format(model.ln_var.item()))\n",
    "elif len(model.ln_var) == 2:\n",
    "    print('model.ln_var[0]: {:.2f}, model.ln_var[1]: {:.2f}'.format(model.ln_var[0].item(), model.ln_var[1].item()))\n",
    "\n",
    "if args.gpu >= 0:\n",
    "    # device = args.gpu\n",
    "    device = torch.device('cuda:'+str(args.gpu) if torch.cuda.is_available() else 'cpu')\n",
    "else:\n",
    "    device = torch.device('cpu')\n",
    "model.to(device)\n",
    "print(f'device = {device}')\n",
    "model.eval()  # Set model for evaluation"
   ],
   "metadata": {
    "collapsed": false
   }
  },
  {
   "cell_type": "code",
   "execution_count": 6,
   "outputs": [],
   "source": [
    "from mflow.utils.model_utils import smiles_to_adj, rescale_adj\n",
    "\n",
    "def smiles_to_moflow_rep(smiles):\n",
    "    adj, atoms = smiles_to_adj(smiles, 'zinc250k')\n",
    "    adj_normalized = rescale_adj(adj)\n",
    "    with torch.no_grad():\n",
    "        device = next(model.parameters()).device\n",
    "        z0, _ = model(adj.to(device), atoms.to(device), adj_normalized.to(device))\n",
    "\n",
    "    h, adj_h = z0\n",
    "    # Flatten h and adj_h into 1D tensors\n",
    "    h_flat = h.view(h.shape[0], -1)\n",
    "    adj_h_flat = adj_h.view(adj_h.shape[0], -1)\n",
    "\n",
    "    return torch.cat([h_flat, adj_h_flat], dim=1)"
   ],
   "metadata": {
    "collapsed": false
   }
  },
  {
   "cell_type": "code",
   "execution_count": 7,
   "outputs": [],
   "source": [
    "from torch import Tensor\n",
    "from types import SimpleNamespace\n",
    "from torch_geometric.data import Data\n",
    "import numpy as np\n",
    "from ogb.utils.features import atom_to_feature_vector, bond_to_feature_vector\n",
    "from rdkit.Chem import AllChem\n",
    "from rdkit import Chem\n",
    "\n",
    "\n",
    "def mol_to_graph_data_obj_simple(mol):\n",
    "    \"\"\"\n",
    "    Converts rdkit mol object to graph Data object required by the pytorch\n",
    "    geometric package. NB: Uses simplified atom and bond features, and represent\n",
    "    as indices\n",
    "    :param mol: rdkit mol object\n",
    "    :return: graph data object with the attributes: x, edge_index, edge_attr\n",
    "    \"\"\"\n",
    "    # atoms\n",
    "    mol = Chem.AddHs(mol)\n",
    "\n",
    "    bad = False\n",
    "\n",
    "    # rdDepictor.Compute2DCoords(mol)\n",
    "    if AllChem.EmbedMolecule(mol) == -1:\n",
    "        bad = True\n",
    "    # AllChem.EmbedMolecule(mol)\n",
    "\n",
    "    mol_try = Chem.Mol(mol)\n",
    "    if not bad:\n",
    "        try:\n",
    "            AllChem.MMFFOptimizeMolecule(mol_try)\n",
    "            mol = mol_try\n",
    "        except ValueError:\n",
    "            print(\"oops\")\n",
    "            pass\n",
    "\n",
    "    mol = Chem.RemoveHs(mol)\n",
    "\n",
    "    num_atom_features = 2   # atom type,  chirality tag\n",
    "    atom_features_list = []\n",
    "    for atom in mol.GetAtoms():\n",
    "        # atom_feature = [allowable_features['possible_atomic_num_list'].index(\n",
    "        #     atom.GetAtomicNum())] + [allowable_features[\n",
    "        #     'possible_chirality_list'].index(atom.GetChiralTag())]\n",
    "        # atom_features_list.append(atom_feature)\n",
    "        atom_features_list.append(atom_to_feature_vector(atom))\n",
    "\n",
    "    x = torch.tensor(np.array(atom_features_list), dtype=torch.long)\n",
    "\n",
    "    num_bond_features = 3  # bond type, bond stereo, is_conjugated\n",
    "    if len(mol.GetBonds()) > 0: # mol has bonds\n",
    "        edges_list = []\n",
    "        edge_features_list = []\n",
    "        for bond in mol.GetBonds():\n",
    "            i = bond.GetBeginAtomIdx()\n",
    "            j = bond.GetEndAtomIdx()\n",
    "\n",
    "            edge_feature = bond_to_feature_vector(bond)\n",
    "\n",
    "            # add edges in both directions\n",
    "            edges_list.append((i, j))\n",
    "            edge_features_list.append(edge_feature)\n",
    "            edges_list.append((j, i))\n",
    "            edge_features_list.append(edge_feature)\n",
    "\n",
    "        # data.edge_index: Graph connectivity in COO format with shape [2, num_edges]\n",
    "        edge_index = np.array(edges_list, dtype = np.int64).T\n",
    "\n",
    "        # data.edge_attr: Edge feature matrix with shape [num_edges, num_edge_features]\n",
    "        edge_attr = np.array(edge_features_list, dtype = np.int64)\n",
    "\n",
    "    else:   # mol has no bonds\n",
    "        edge_index = np.empty((2, 0), dtype = np.int64)\n",
    "        edge_attr = np.empty((0, num_bond_features), dtype = np.int64)\n",
    "\n",
    "    # positions\n",
    "    try:\n",
    "        if not bad:\n",
    "            positions = mol.GetConformer().GetPositions()\n",
    "        else:\n",
    "            num_atoms = mol.GetNumAtoms()\n",
    "            positions = np.zeros((num_atoms, 3))\n",
    "    except ValueError:\n",
    "        return None\n",
    "    # bonds\n",
    "    # num_bond_features = 2   # bond type, bond direction\n",
    "    # if len(mol.GetBonds()) > 0: # mol has bonds\n",
    "    #     edges_list = []\n",
    "    #     edge_features_list = []\n",
    "    #     for bond in mol.GetBonds():\n",
    "    #         i = bond.GetBeginAtomIdx()\n",
    "    #         j = bond.GetEndAtomIdx()\n",
    "    #         edge_feature = [allowable_features['possible_bonds'].index(\n",
    "    #             bond.GetBondType())] + [allowable_features[\n",
    "    #                                         'possible_bond_dirs'].index(\n",
    "    #             bond.GetBondDir())]\n",
    "    #         edges_list.append((i, j))\n",
    "    #         edge_features_list.append(edge_feature)\n",
    "    #         edges_list.append((j, i))\n",
    "    #         edge_features_list.append(edge_feature)\n",
    "\n",
    "    #     # data.edge_index: Graph connectivity in COO format with shape [2, num_edges]\n",
    "    #     edge_index = torch.tensor(np.array(edges_list).T, dtype=torch.long)\n",
    "\n",
    "    #     # data.edge_attr: Edge feature matrix with shape [num_edges, num_edge_features]\n",
    "    #     edge_attr = torch.tensor(np.array(edge_features_list),\n",
    "    #                              dtype=torch.long)\n",
    "    # else:   # mol has no bonds\n",
    "    #     edge_index = torch.empty((2, 0), dtype=torch.long)\n",
    "    #     edge_attr = torch.empty((0, num_bond_features), dtype=torch.long)\n",
    "\n",
    "    data = Data(x=x, edge_index=torch.from_numpy(edge_index).to(torch.int64), edge_attr=torch.from_numpy(edge_attr).to(torch.int64))\n",
    "\n",
    "    data.__num_nodes__ = len(x)\n",
    "    data.pos = positions\n",
    "\n",
    "    return data\n",
    "\n",
    "class AttrDict(dict):\n",
    "    def __init__(self, *args, **kwargs):\n",
    "        super(AttrDict, self).__init__(*args, **kwargs)\n",
    "        self.__dict__ = self\n",
    "\n",
    "\n",
    "def data_to_graph(data):\n",
    "    new_graph = AttrDict()\n",
    "    new_graph.update(data.to_dict())\n",
    "    new_graph = preprocess_item(new_graph)\n",
    "    return new_graph\n",
    "\n",
    "args = SimpleNamespace(_name='transformer_m_base', act_dropout=0.3, activation_fn='gelu', add_3d=True,\n",
    "                               add_prev_output_tokens=False, all_gather_list_size=16384, amp=False,\n",
    "                               amp_batch_retries=2,\n",
    "                               amp_init_scale=128, amp_scale_window=None, apply_init=True,\n",
    "                               arch='transformer_m_base',\n",
    "                               attention_dropout=0.3, azureml_logging=False, batch_size=256, batch_size_valid=256,\n",
    "                               best_checkpoint_metric='loss', bf16=False, bpe=None, broadcast_buffers=False,\n",
    "                               bucket_cap_mb=25, checkpoint_shard_count=1, checkpoint_suffix='', clip_norm=0.0,\n",
    "                               combine_valid_subsets=None, cpu=False, cpu_offload=False,\n",
    "                               criterion='graph_prediction',\n",
    "                               curriculum=0, data_buffer_size=20, data_path='NOT-IN-USE', dataset_impl=None,\n",
    "                               dataset_name='NOT-IN-USE', ddp_backend='legacy_ddp', ddp_comm_hook='none',\n",
    "                               device_id=0, disable_validation=False, distributed_backend='nccl',\n",
    "                               distributed_init_method=None, distributed_no_spawn=False, distributed_num_procs=2,\n",
    "                               distributed_port=-1, distributed_rank=0, distributed_world_size=2, dropout=0.1,\n",
    "                               droppath_prob=0.1, edge_type='multi_hop', ema_decay=0.9999, ema_fp32=False,\n",
    "                               ema_seed_model=None, ema_start_update=0, ema_update_freq=1, empty_cache_freq=0,\n",
    "                               encoder_attention_heads=32, encoder_embed_dim=768, encoder_ffn_embed_dim=768,\n",
    "                               encoder_layers=12, encoder_learned_pos=True, encoder_normalize_before=True, eos=2,\n",
    "                               fast_stat_sync=False, find_unused_parameters=False, finetune_from_model=None,\n",
    "                               fix_batches_to_gpus=False, fixed_validation_seed=None, force_anneal=None, fp16=False,\n",
    "                               fp16_init_scale=128, fp16_no_flatten_grads=False, fp16_scale_tolerance=0.0,\n",
    "                               fp16_scale_window=None, fp32_reduce_scatter=False, gen_subset='test',\n",
    "                               gradient_as_bucket_view=False, grouped_shuffling=False, heartbeat_timeout=-1,\n",
    "                               ignore_unused_valid_subsets=False, init_token=None, keep_best_checkpoints=-1,\n",
    "                               keep_interval_updates=-1, keep_interval_updates_pattern=-1, keep_last_epochs=-1,\n",
    "                               load_checkpoint_on_all_dp_ranks=False, localsgd_frequency=3, log_file=None,\n",
    "                               log_format=None, log_interval=100, lr=[0.25], lr_scheduler='fixed', lr_shrink=0.1,\n",
    "                               max_epoch=0, max_positions=512, max_tokens=None, max_tokens_valid=None, max_update=0,\n",
    "                               max_valid_steps=None, maximize_best_checkpoint_metric=False,\n",
    "                               memory_efficient_bf16=False,\n",
    "                               memory_efficient_fp16=False, metric='mae', min_loss_scale=0.0001,\n",
    "                               mode_prob='0.2,0.2,0.6', model_parallel_size=1, multi_hop_max_dist=5, no_2d=False,\n",
    "                               no_epoch_checkpoints=False, no_last_checkpoints=False, no_progress_bar=False,\n",
    "                               no_reshard_after_forward=False, no_save=False, no_save_optimizer_state=False,\n",
    "                               no_seed_provided=False, no_shuffle=False, no_token_positional_embeddings=False,\n",
    "                               noise_scale=0.2, not_fsdp_flatten_parameters=False, nprocs_per_node=2,\n",
    "                               num_3d_bias_kernel=128, num_atoms=4608, num_classes=1, num_edge_dis=128,\n",
    "                               num_edges=1536,\n",
    "                               num_in_degree=512, num_out_degree=512, num_segment=2, num_shards=1, num_spatial=512,\n",
    "                               num_workers=16, on_cpu_convert_precision=False, optimizer=None,\n",
    "                               optimizer_overrides='{}',\n",
    "                               pad=1, patience=-1, pipeline_balance=None, pipeline_checkpoint='never',\n",
    "                               pipeline_chunks=0, pipeline_decoder_balance=None, pipeline_decoder_devices=None,\n",
    "                               pipeline_devices=None, pipeline_encoder_balance=None, pipeline_encoder_devices=None,\n",
    "                               pipeline_model_parallel=False, plasma_path='/tmp/plasma',\n",
    "                               pooler_activation_fn='tanh',\n",
    "                               profile=False, quantization_config_path=None, required_batch_size_multiple=8,\n",
    "                               required_seq_len_multiple=1, reset_dataloader=False, reset_logging=False,\n",
    "                               reset_lr_scheduler=False, reset_meters=False, reset_optimizer=False,\n",
    "                               restore_file='checkpoint_last.pt', sandwich_ln=False, save_dir='NOT-IN-USE',\n",
    "                               save_interval=1, save_interval_updates=0, scoring='bleu', seed=1, sent_loss=False,\n",
    "                               sentence_avg=False, sentence_class_num=2, separator_token=None, shard_id=0,\n",
    "                               share_encoder_input_output_embed=False, shorten_data_split_list='',\n",
    "                               shorten_method='none', simul_type=None, skip_invalid_size_inputs_valid_test=False,\n",
    "                               slowmo_base_algorithm='localsgd', slowmo_momentum=None, split='valid',\n",
    "                               stop_min_lr=-1.0,\n",
    "                               stop_time_hours=0, store_ema=False, suppress_crashes=False, task='NOT-IN-USE',\n",
    "                               tensorboard_logdir=None, threshold_loss_scale=None, tokenizer=None, tpu=False,\n",
    "                               train_subset='train', unk=3, update_epoch_batch_itr=False, update_freq=[1],\n",
    "                               update_ordered_indices_seed=False, use_bmuf=False, use_plasma_view=False,\n",
    "                               use_sharded_state=False,\n",
    "                               user_dir='NOT-IN-USE',\n",
    "                               valid_subset='valid', validate_after_updates=0, validate_interval=1,\n",
    "                               validate_interval_updates=0, wandb_project=None, warmup_updates=0,\n",
    "                               write_checkpoints_asynchronously=False, zero_sharding='none')\n",
    "\n",
    "transformer = TransformerM(args=args)\n",
    "transformer = transformer.to('cuda')\n",
    "transformer.eval()\n",
    "\n",
    "def forward_through_graph_encoder(collated):\n",
    "    global transformer\n",
    "    inner_states, atom_output = transformer.molecule_encoder(\n",
    "        collated,\n",
    "        segment_labels=None,\n",
    "        perturb=None,\n",
    "        last_state_only=True\n",
    "    )\n",
    "\n",
    "    last_state = inner_states[0]\n",
    "    molecule_embedding = last_state.permute(1, 0, 2).mean(dim=1)\n",
    "    return molecule_embedding\n",
    "\n",
    "def smiles_to_transformerm_rep(mol_smiles):\n",
    "    data = mol_to_graph_data_obj_simple(Chem.MolFromSmiles(mol_smiles))\n",
    "    graph = data_to_graph(data)\n",
    "    graph.idx = 0\n",
    "\n",
    "    graph.y = np.array([0.0])\n",
    "\n",
    "    max_node = 512\n",
    "    multi_hop_max_dist = 5\n",
    "    spatial_pos_max = 1024\n",
    "\n",
    "    for idx, val in graph.items():\n",
    "        if isinstance(val, np.ndarray):\n",
    "            graph[idx] = torch.from_numpy(val)\n",
    "\n",
    "    collated_graph = collator_3d([graph], max_node=max_node, multi_hop_max_dist=multi_hop_max_dist,\n",
    "                                  spatial_pos_max=spatial_pos_max)\n",
    "\n",
    "\n",
    "    for idx, val in collated_graph.items():\n",
    "        if hasattr(val, 'to'):\n",
    "            collated_graph[idx] = val.to('cuda')\n",
    "\n",
    "    return forward_through_graph_encoder(collated_graph)\n"
   ],
   "metadata": {
    "collapsed": false
   }
  },
  {
   "cell_type": "code",
   "execution_count": 8,
   "outputs": [
    {
     "data": {
      "text/plain": "(tensor([[ 2.5210, -3.0424, -0.9128,  ..., -4.5585, -2.8697, -3.3236]],\n        device='cuda:0'),\n torch.Size([1, 6156]))"
     },
     "execution_count": 8,
     "metadata": {},
     "output_type": "execute_result"
    }
   ],
   "source": [
    "m_rep = smiles_to_moflow_rep(\"CCCC\")\n",
    "m_rep, m_rep.shape"
   ],
   "metadata": {
    "collapsed": false
   }
  },
  {
   "cell_type": "code",
   "execution_count": 9,
   "outputs": [
    {
     "data": {
      "text/plain": "(tensor([[-1.0292e+00, -6.3661e-01,  6.8536e-02,  1.0596e+00,  2.7937e-01,\n           4.8032e-02,  3.3868e-03,  5.4359e-01,  6.3216e-01,  5.0395e-01,\n          -8.3358e-02,  6.1866e-02,  5.4672e-01, -7.8906e-01, -1.0624e+00,\n          -9.9871e-02, -9.8324e-01, -4.6070e-02,  3.9625e-01,  1.7100e-01,\n          -5.5828e-01, -1.1153e+00,  5.7789e-01,  1.1025e+00, -7.8656e-01,\n           5.2291e-01, -1.0449e+00,  1.1638e+00, -2.1258e-01, -3.8182e-01,\n          -3.6330e-01, -3.6772e-01, -5.5444e-02,  6.6471e-01,  8.6532e-01,\n           1.4292e+00, -9.7485e-01, -6.2611e-01,  5.8219e-01,  6.5893e-01,\n           7.5214e-01, -4.3363e-01,  8.5513e-01,  6.1927e-01, -6.9865e-01,\n          -7.6682e-01, -3.5654e-01,  1.8407e+00, -1.1714e+00, -1.1942e+00,\n           1.3130e+00, -1.4000e+00,  4.8004e-01,  1.0684e-01, -8.3134e-01,\n           1.7291e+00,  9.0076e-01, -6.8361e-01, -2.9527e-01,  1.2322e-01,\n           1.2950e+00,  2.0847e+00, -1.7756e+00, -4.0259e-01, -2.2111e+00,\n          -5.3987e-01,  8.6315e-01, -1.5725e+00,  7.8408e-01,  1.4391e+00,\n           9.7846e-03,  2.7617e-01,  1.0339e+00,  1.1998e+00, -4.7694e-01,\n          -5.0026e-02, -6.0688e-01, -1.0735e+00, -2.7742e+00, -1.1263e+00,\n          -1.9477e+00,  3.7028e-01, -1.0682e+00,  1.1375e+00, -5.0204e-01,\n           6.9743e-02,  4.1016e-01, -8.7472e-01,  5.6973e-01,  1.3476e+00,\n           1.0072e+00, -2.2393e-01, -8.6632e-01, -5.8614e-01, -1.4556e+00,\n           4.8604e-01,  8.1229e-01,  1.4215e+00,  6.7099e-01, -1.9625e-01,\n           4.4411e-01, -4.2020e-01,  7.1226e-01,  1.2445e+00,  2.2694e-02,\n          -7.8436e-01, -1.0996e+00, -1.1886e+00, -7.6662e-01,  6.7124e-02,\n          -1.1161e-02, -3.7792e-01,  9.7935e-01, -7.7214e-01, -1.3029e-01,\n          -3.4708e-01, -2.7922e-01,  5.9410e-02, -1.2155e+00,  1.4656e+00,\n          -1.9985e+00, -1.5903e+00, -1.2702e+00,  9.9326e-01,  1.3831e+00,\n           2.0348e+00,  4.5637e-01,  1.9513e+00, -4.5520e-01, -5.4107e-01,\n          -1.1231e+00,  2.1442e-01, -1.0052e+00, -5.2161e-01,  3.7208e-02,\n          -1.9556e-01, -8.9157e-01, -6.1246e-01,  7.7231e-01,  1.7093e+00,\n           5.0719e-03,  1.4997e+00, -1.6788e-01, -1.3791e-01,  1.4567e+00,\n           1.0965e-01, -2.0695e-01, -7.1522e-01,  8.4111e-01, -1.2580e+00,\n          -6.7079e-01, -1.4641e-01,  6.3551e-01, -2.7081e-01, -2.0490e-01,\n          -5.0296e-01,  3.4219e-01, -5.0929e-01,  1.9691e-01,  7.9601e-01,\n          -1.1067e-01, -1.2257e+00,  5.4596e-01,  1.3057e+00, -8.3288e-01,\n           7.8018e-01, -6.7639e-01, -1.6790e+00,  6.1383e-01, -1.9024e-01,\n          -6.3495e-01, -4.4211e-01,  3.7806e-01,  3.0547e-02,  4.6831e-01,\n           6.0764e-01, -3.0734e-01,  4.2704e-01,  1.8292e-01,  7.3359e-01,\n           6.7694e-01,  8.5438e-01,  5.2496e-01,  1.5529e-01,  2.4595e-02,\n           3.9620e-01,  2.0575e+00, -3.4244e-01,  1.3927e-01, -7.0505e-01,\n          -5.0756e-01, -1.0197e+00,  1.0323e-01,  1.2144e+00, -8.0921e-01,\n          -5.3930e-01,  3.8640e-01, -5.2389e-01, -4.1480e-01,  6.3450e-02,\n          -1.2248e+00, -7.7112e-01,  1.8322e+00, -3.2965e-01, -3.6104e-01,\n          -8.5061e-01,  3.7073e-01,  8.0640e-01,  8.1028e-01, -1.1272e+00,\n           3.1876e-01,  3.3434e-01, -1.1149e+00,  1.6253e-01, -2.2109e-01,\n          -7.5377e-01,  6.8674e-01, -9.8226e-01,  1.1780e+00, -1.7940e+00,\n           2.3333e-01, -8.0612e-02,  6.1366e-01, -1.1235e+00, -5.8983e-01,\n           7.6041e-01,  3.4360e-01,  6.0351e-01, -3.2118e-01,  1.3114e+00,\n           4.7517e-01, -9.5116e-01,  5.7932e-01,  8.6935e-01, -1.4534e+00,\n           2.5515e-01, -8.4536e-01,  1.6609e+00,  1.1947e+00, -5.2066e-02,\n           1.1476e-01,  1.9172e-01, -5.8072e-01, -5.4201e-01, -3.6003e-01,\n          -1.1611e-01, -5.5485e-01,  1.2256e+00, -2.7365e-01,  2.6809e-01,\n           1.0136e+00,  2.5226e-01,  2.0644e+00, -1.0275e+00,  9.1071e-01,\n           2.2023e-01,  1.9757e-02,  5.5730e-01,  1.1569e+00,  2.3300e-01,\n          -5.5000e-02,  7.0927e-01, -6.4556e-01,  2.1356e+00, -5.8976e-01,\n           1.1009e+00,  9.9668e-01, -5.3966e-02,  1.4416e-01,  1.5643e-01,\n          -7.7761e-02,  1.2100e-01,  1.4880e+00, -7.1835e-01,  3.7999e-01,\n           1.2535e-01, -1.7663e-01, -1.3630e+00,  1.2874e+00,  1.5751e-01,\n          -4.3706e-01, -8.6060e-01, -2.0480e+00, -7.3628e-01, -2.1541e-01,\n          -2.9397e-02,  5.9419e-01,  5.1907e-01,  1.1013e+00,  5.5513e-01,\n           2.0899e-01, -4.2970e-01, -2.9735e-01,  5.7999e-01,  4.8493e-01,\n          -5.7214e-02,  1.3940e+00, -6.3887e-01, -1.4593e-01,  4.3275e-02,\n          -2.2487e+00,  2.3697e+00, -1.6770e+00,  7.4367e-01, -1.6437e-01,\n          -4.2905e-02, -5.3068e-01, -1.5078e+00,  2.8600e-01, -1.2030e+00,\n           1.0784e+00,  6.1009e-01,  9.4948e-01,  1.9131e+00, -9.7934e-01,\n           7.7495e-01, -1.8588e-01, -8.9017e-01, -1.1772e+00, -3.0048e-01,\n           2.0779e-01, -8.5367e-01, -6.2826e-01, -1.0586e+00, -5.2285e-01,\n           5.5622e-02, -8.3420e-02, -4.4990e-01,  3.9505e-01,  5.4748e-01,\n           1.3508e-01, -1.8171e-02,  3.7180e-01, -1.3712e-01, -2.2013e-01,\n           9.5333e-01,  4.6870e-01, -1.8438e+00, -1.4623e+00,  7.8729e-02,\n           1.0487e+00,  1.2469e+00,  2.1859e+00,  7.6545e-01,  3.4128e-01,\n          -4.5873e-01, -3.3096e-01,  9.8215e-01,  7.1703e-01,  7.8932e-01,\n           7.1723e-01,  7.2852e-01, -1.0795e-01, -2.4152e-02,  1.9963e+00,\n           1.4572e+00,  3.9682e-02,  1.1778e+00,  2.5262e-01,  6.6156e-01,\n           6.2705e-01,  7.6263e-01, -8.0468e-02, -1.9170e+00,  9.7840e-01,\n          -8.7609e-01,  1.1326e+00,  3.4957e-01,  7.1203e-01, -1.7677e+00,\n          -7.7716e-01,  1.8708e+00,  5.5303e-01,  7.5625e-01, -1.9472e-01,\n          -3.7285e-01, -1.0701e+00, -8.9839e-01, -8.9917e-01, -3.5963e-01,\n          -4.7950e-01, -1.0969e+00,  1.3145e+00,  5.6039e-01, -4.2219e-01,\n           1.7396e-01, -8.4633e-01, -1.4863e+00,  2.0103e-01,  1.9794e+00,\n          -8.0541e-01, -9.5108e-01, -2.0524e+00,  4.3458e-01,  1.2051e+00,\n          -2.2917e-01,  4.1068e-01, -1.1718e+00,  5.9081e-01,  2.8867e-01,\n          -6.5234e-01, -1.3434e+00, -6.3916e-01, -6.8940e-01,  1.2361e+00,\n          -1.7094e+00,  1.2640e+00,  1.6214e-01,  1.9114e-02, -1.2765e-01,\n          -3.5633e-01,  1.1635e+00, -2.4043e-01,  6.6478e-01,  4.3578e-01,\n          -4.9458e-01,  1.8734e+00, -1.4487e+00, -1.1193e+00,  1.5284e+00,\n           1.3693e-01,  1.4385e+00,  7.4140e-01, -2.6839e-01, -1.3221e+00,\n          -7.1024e-01, -1.1571e+00,  8.6027e-02,  2.1644e-03,  8.1530e-01,\n           5.7438e-01,  1.4918e+00, -3.5964e-01, -1.1464e+00,  1.1641e+00,\n           1.1929e+00,  3.2401e-01,  4.9298e-01, -9.5112e-01,  2.9107e-01,\n          -5.3113e-01, -3.2522e-01,  1.9006e-02, -2.4769e-01,  2.8339e-01,\n           2.3149e+00, -8.0227e-01,  1.4409e-01, -7.7658e-02,  1.1082e+00,\n          -7.1825e-01, -6.8149e-01, -9.6491e-01, -9.2792e-01, -1.8348e+00,\n           4.6638e-01,  1.0701e-01,  5.6526e-01, -4.8230e-01, -4.9860e-01,\n          -1.5025e+00, -3.3391e-01,  1.7216e+00, -5.1384e-02,  6.9353e-01,\n          -1.4476e-01, -1.6837e+00, -6.8820e-01, -1.8445e+00, -9.4132e-01,\n          -5.5920e-01, -3.7278e-01, -3.2406e-02, -3.8029e-01, -9.1172e-01,\n          -5.6206e-02, -4.2200e-01, -3.9795e-01,  6.3819e-01, -2.0657e+00,\n          -9.3572e-01, -5.2488e-01, -1.1829e+00, -6.6344e-01, -1.1760e+00,\n           7.6354e-03, -1.0394e+00, -1.4991e+00, -1.8930e-01, -7.1195e-01,\n          -9.8284e-01, -9.3765e-01, -4.0989e-01, -1.0525e-01,  1.6194e+00,\n           4.5200e-01, -5.9832e-01,  9.3048e-01,  7.8160e-01, -3.7180e-01,\n           1.5334e+00,  4.2084e-01, -1.3626e+00,  1.0252e+00, -8.2797e-01,\n          -1.1031e+00,  8.3509e-01, -4.5367e-01, -3.7817e-01,  1.8734e+00,\n           1.5236e+00, -3.4701e+00,  3.1951e-01,  1.0149e+00, -1.6919e-02,\n           2.1582e+00, -6.5388e-01, -8.1999e-01,  1.4139e+00, -2.1583e-01,\n           1.8969e+00,  7.3232e-01,  2.8774e-01, -1.9271e-02,  2.1733e+00,\n          -8.1307e-01,  6.8752e-01,  8.6989e-01,  5.1806e-01, -1.2567e+00,\n          -2.1411e-01,  1.8767e+00,  3.7685e-01, -1.3795e+00, -1.9661e+00,\n           9.6935e-01,  5.1127e-01, -2.3146e-01,  5.8067e-01, -1.6084e-01,\n          -1.0702e-01,  9.7635e-01, -1.1340e+00,  2.9301e-01,  5.9784e-01,\n           3.1772e-01, -2.3210e-01,  3.6215e-01, -1.9264e-01, -1.4952e-02,\n          -1.2754e+00,  4.7520e-01,  2.2934e-01,  9.8096e-01, -5.6515e-01,\n          -5.1979e-01, -7.4177e-01,  1.7270e+00, -1.3887e+00,  9.4978e-01,\n          -1.3067e-01,  2.4136e-02, -2.7863e-01, -4.7853e-01, -9.8943e-01,\n          -5.0780e-01, -1.1773e+00,  3.8672e-01, -8.8584e-01,  2.2346e-02,\n          -4.4086e-01,  6.3766e-01, -3.0947e-01, -1.7881e+00,  1.5810e+00,\n          -3.6881e-02,  3.5318e-01,  1.2699e+00, -1.6183e+00,  6.3835e-01,\n          -5.1993e-01,  1.5078e+00,  2.1539e+00,  1.1532e+00,  2.8273e-01,\n          -9.7277e-01,  1.0587e+00, -1.0603e+00, -1.2694e+00, -2.1942e-01,\n           1.4874e+00, -2.0338e-01, -4.5473e-01,  2.2758e-01, -2.6555e-01,\n          -6.8741e-01, -2.2862e-01, -2.0314e+00,  6.7167e-01, -1.2630e+00,\n           2.9723e-01,  4.0606e-01,  1.9601e-01, -1.2490e+00, -7.4660e-01,\n          -1.0333e+00,  4.0703e-01,  1.1486e-01,  1.0510e-02,  7.4477e-01,\n           2.1171e-02,  7.0772e-01,  4.8439e-01, -8.1366e-01, -3.5494e-01,\n          -2.0601e-01, -1.7462e-01,  1.3034e+00,  1.4090e+00, -1.5743e-02,\n          -3.7593e-01, -2.9415e-02, -1.4319e+00,  1.4271e+00,  8.0215e-01,\n           3.8899e-01,  1.2233e-01, -5.8228e-01,  1.9942e-01, -1.3148e-01,\n           2.4645e-01, -6.6748e-01,  1.4041e+00,  6.7594e-01, -1.2484e+00,\n           4.9680e-02,  8.9694e-01,  9.8007e-01, -5.7866e-02,  1.7213e+00,\n           1.4128e+00, -2.5624e-03, -2.4295e-02, -5.1608e-01,  4.2758e-01,\n          -5.7466e-01,  5.3792e-01,  2.0173e-01,  8.9522e-01, -1.4683e-01,\n           1.9490e-01,  1.5410e+00, -1.4405e-01, -7.2107e-01,  5.2980e-01,\n          -4.8338e-01,  1.5839e+00, -5.5431e-01, -4.2645e-01, -1.8868e-01,\n          -8.9789e-01,  1.1349e+00,  9.8893e-02, -1.4307e+00,  4.6691e-01,\n           4.0442e-01, -3.1747e-01, -1.7307e-03, -1.7667e-01, -1.4427e+00,\n          -4.7467e-01, -4.2707e-01, -6.0521e-01, -2.0521e-01, -4.9365e-01,\n          -1.3929e+00, -1.0687e+00, -2.2676e-01, -6.2233e-01, -1.2666e+00,\n          -6.3127e-01, -7.5313e-01, -6.7401e-01, -2.2439e-01, -1.7470e+00,\n           7.4368e-01,  1.7724e-01, -8.8398e-01,  7.8348e-01, -1.0336e+00,\n          -5.4155e-02,  4.8277e-01, -5.0284e-02,  1.9494e+00, -5.5615e-01,\n          -1.0867e-01,  5.7586e-02, -9.9565e-01, -6.4710e-01,  1.6411e+00,\n           2.0531e-01,  3.6206e-01,  7.2220e-01, -5.0386e-01, -3.3024e-01,\n          -1.7339e+00, -3.3828e-01, -1.4512e+00, -8.9631e-01,  3.7634e-01,\n           2.2753e-01, -4.1277e-01, -7.4446e-01,  9.1164e-01, -4.3541e-01,\n           6.9271e-01, -4.9127e-01,  1.2521e+00, -7.7362e-01, -4.7547e-01,\n          -1.1231e+00,  7.0751e-01, -1.4280e-01, -5.1382e-01,  2.1730e-01,\n           1.1843e+00,  7.2815e-01, -2.5079e-01,  5.9706e-01,  6.3873e-03,\n           1.6754e-01,  4.3575e-01, -4.1176e-01, -1.3596e+00,  4.1550e-01,\n          -7.9564e-01, -4.3350e-01,  1.4003e+00, -3.1521e-01,  1.6770e+00,\n           1.7384e-01, -6.5443e-01, -8.9711e-01, -8.0814e-02,  6.7673e-01,\n          -3.5888e-01,  2.6207e-01, -3.7630e-01,  5.8564e-01, -4.1335e-01,\n          -4.0147e-01, -1.3418e-01, -3.9526e-01,  1.3483e+00,  1.7302e+00,\n          -3.1700e-01, -1.7693e-01, -5.7743e-01, -2.2918e-01,  1.0381e+00,\n           2.1728e+00,  2.4855e-01,  1.0240e-01,  1.1230e+00, -4.8653e-01,\n           3.1855e-01,  3.4735e-02,  3.7878e-02]], device='cuda:0',\n        grad_fn=<MeanBackward1>),\n torch.Size([1, 768]))"
     },
     "execution_count": 9,
     "metadata": {},
     "output_type": "execute_result"
    }
   ],
   "source": [
    "tm_rep = smiles_to_transformerm_rep(\"CCCC\")\n",
    "tm_rep, tm_rep.shape"
   ],
   "metadata": {
    "collapsed": false
   }
  },
  {
   "cell_type": "code",
   "execution_count": 10,
   "outputs": [],
   "source": [
    "from torch.utils.data import Dataset\n",
    "\n",
    "\n",
    "class EmbeddingsDataset(Dataset):\n",
    "    def __init__(self, smiles):\n",
    "        self.smiles = smiles\n",
    "\n",
    "    def __len__(self):\n",
    "        return len(self.smiles)\n",
    "\n",
    "    def __getitem__(self, idx):\n",
    "        mol_smiles = self.smiles[idx]\n",
    "        return smiles_to_moflow_rep(mol_smiles).squeeze(0), smiles_to_transformerm_rep(mol_smiles).squeeze(0)\n",
    "\n",
    "dataset = EmbeddingsDataset(smiles)"
   ],
   "metadata": {
    "collapsed": false
   }
  },
  {
   "cell_type": "code",
   "execution_count": 11,
   "outputs": [
    {
     "data": {
      "text/plain": "(torch.Size([6156]), torch.Size([768]))"
     },
     "execution_count": 11,
     "metadata": {},
     "output_type": "execute_result"
    }
   ],
   "source": [
    "d = dataset[0]\n",
    "d[0].shape, d[1].shape"
   ],
   "metadata": {
    "collapsed": false
   }
  },
  {
   "cell_type": "code",
   "execution_count": 16,
   "outputs": [],
   "source": [
    "import torch\n",
    "from torch import nn, optim\n",
    "\n",
    "class ProjectionModel(nn.Module):\n",
    "    def __init__(self):\n",
    "        super(ProjectionModel, self).__init__()\n",
    "        self.model = nn.Sequential(\n",
    "            nn.Linear(6156, 4096),\n",
    "            nn.ReLU(),\n",
    "            nn.Linear(4096, 2048),\n",
    "            nn.ReLU(),\n",
    "            nn.Linear(2048, 768)\n",
    "        )\n",
    "\n",
    "    def forward(self, x):\n",
    "        return self.model(x)\n",
    "\n",
    "project_model = ProjectionModel()"
   ],
   "metadata": {
    "collapsed": false
   }
  },
  {
   "cell_type": "code",
   "execution_count": 17,
   "outputs": [],
   "source": [
    "# Define a loss function\n",
    "def custom_loss(y_pred, y_true):\n",
    "    return (y_pred - y_true).pow(2).sum(-1).mean()"
   ],
   "metadata": {
    "collapsed": false
   }
  },
  {
   "cell_type": "code",
   "execution_count": 18,
   "outputs": [],
   "source": [
    "# Define an optimizer\n",
    "optimizer = optim.Adam(project_model.parameters(), lr=0.001, weight_decay=1e-4)\n",
    "\n",
    "device = torch.device('cuda' if torch.cuda.is_available() else 'cpu')\n",
    "\n",
    "# Move model to the device\n",
    "project_model = project_model.to(device)"
   ],
   "metadata": {
    "collapsed": false
   }
  },
  {
   "cell_type": "code",
   "execution_count": null,
   "outputs": [
    {
     "name": "stderr",
     "output_type": "stream",
     "text": [
      "\n",
      "\n",
      "Training:   0%|                               | 0/200 [01:26<?, ?it/s]\u001B[A\u001B[A\n",
      "Epoch 1:   0%|                               | 0/7802 [00:00<?, ?it/s]\n",
      "Epoch 1:   0%|                    | 4/7802 [00:34<17:48:42,  8.22s/it]\u001B[A"
     ]
    }
   ],
   "source": [
    "from tqdm import tqdm\n",
    "from torch.utils.data import DataLoader\n",
    "\n",
    "train_loader = DataLoader(dataset=dataset, batch_size=32, shuffle=True)\n",
    "\n",
    "num_epochs = 200\n",
    "pbar_total = tqdm(total=num_epochs, desc=\"Training\", ncols=70)\n",
    "for epoch in range(num_epochs):\n",
    "    total_loss = 0\n",
    "    pbar_epoch = tqdm(total=len(train_loader), desc=f\"Epoch {epoch+1}\", ncols=70, leave=False)\n",
    "\n",
    "    for i, (moflow_rep, transformerm_rep) in enumerate(train_loader):\n",
    "        moflow_rep = moflow_rep.to(device)\n",
    "        transformerm_rep = transformerm_rep.to(device)\n",
    "\n",
    "        optimizer.zero_grad()\n",
    "        outputs = project_model(moflow_rep)\n",
    "\n",
    "        loss = (outputs - transformerm_rep).pow(2).sum(-1).mean()\n",
    "        loss.backward()\n",
    "\n",
    "        optimizer.step()\n",
    "\n",
    "        total_loss += loss.item()\n",
    "        pbar_epoch.update(1)\n",
    "\n",
    "    pbar_epoch.close()\n",
    "    avg_loss = total_loss / len(train_loader)\n",
    "    print(f\"Epoch {epoch+1}, Loss: {avg_loss}\")\n",
    "    torch.save(project_model.state_dict(), f'edit-projection-epoch{epoch+1}-loss{avg_loss:.3f}.bin')\n",
    "    pbar_total.update(1)\n",
    "\n",
    "pbar_total.close()\n"
   ],
   "metadata": {
    "collapsed": false,
    "pycharm": {
     "is_executing": true
    }
   }
  },
  {
   "cell_type": "code",
   "execution_count": null,
   "outputs": [],
   "source": [],
   "metadata": {
    "collapsed": false
   }
  }
 ],
 "metadata": {
  "kernelspec": {
   "display_name": "Python 3",
   "language": "python",
   "name": "python3"
  },
  "language_info": {
   "codemirror_mode": {
    "name": "ipython",
    "version": 2
   },
   "file_extension": ".py",
   "mimetype": "text/x-python",
   "name": "python",
   "nbconvert_exporter": "python",
   "pygments_lexer": "ipython2",
   "version": "2.7.6"
  }
 },
 "nbformat": 4,
 "nbformat_minor": 0
}
